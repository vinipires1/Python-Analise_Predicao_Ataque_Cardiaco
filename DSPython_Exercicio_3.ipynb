{
  "nbformat": 4,
  "nbformat_minor": 0,
  "metadata": {
    "colab": {
      "provenance": []
    },
    "kernelspec": {
      "name": "python3",
      "display_name": "Python 3"
    },
    "language_info": {
      "name": "python"
    }
  },
  "cells": [
    {
      "cell_type": "markdown",
      "source": [
        "#EXERCICIO 1\n",
        "\n",
        "Escolha uma base de dados no https://www.kaggle.com/datasets \n",
        "\n",
        "0) Se familiarize com sua base, não esqueça de junto com seus códigos realizar suas análises/conclusões (use o botão de +Texto).\n",
        "\n",
        "1) Realize sumarizacoes. Veja qual tipo de gráfico é útil para sua análise se barras, linha ou pizza\n",
        "\n",
        "2) Faça análises estatísticas\n",
        "Apresente o histograma\n",
        "Calcule os quartis \n",
        "Apresente o boxplot \n",
        "\n",
        "Não esqueça de junto com seus códigos realizar suas análises/conclusões (use o botão de +Texto).\n",
        "\n",
        "\n",
        "\n",
        "\n",
        "\n",
        "\n",
        "\n"
      ],
      "metadata": {
        "id": "ZbE2MSwr9jyl"
      }
    },
    {
      "cell_type": "markdown",
      "source": [
        "## Informações da base de dados\n",
        "Link do dataset: https://www.kaggle.com/datasets/rashikrahmanpritom/heart-attack-analysis-prediction-dataset\n",
        "\n",
        "\n",
        "Autor: Rashik Rahman\n",
        "\n",
        "\n",
        "\n"
      ],
      "metadata": {
        "id": "9cW7RcEEzqkG"
      }
    },
    {
      "cell_type": "code",
      "execution_count": null,
      "metadata": {
        "id": "K2HNWLct7fPG"
      },
      "outputs": [],
      "source": [
        "# blibiotecas\n",
        "import pandas as pd\n",
        "import seaborn as sns\n",
        "import matplotlib.pyplot as plt\n",
        "from sklearn.linear_model import LogisticRegression\n",
        "from sklearn.model_selection import train_test_split\n",
        "import random"
      ]
    },
    {
      "cell_type": "code",
      "source": [
        "# le o dataset\n",
        "df = pd.read_csv('/content/heart.csv', sep= ',')"
      ],
      "metadata": {
        "id": "sXi7q4a07uKP"
      },
      "execution_count": null,
      "outputs": []
    },
    {
      "cell_type": "code",
      "source": [
        "df"
      ],
      "metadata": {
        "id": "DXLfCZA08AsX",
        "colab": {
          "base_uri": "https://localhost:8080/",
          "height": 424
        },
        "outputId": "eba4d8dc-779e-4bc6-9a1f-abba27c3081f"
      },
      "execution_count": null,
      "outputs": [
        {
          "output_type": "execute_result",
          "data": {
            "text/plain": [
              "     age  sex  cp  trtbps  chol  fbs  restecg  thalachh  exng  oldpeak  slp  \\\n",
              "0     63    1   3     145   233    1        0       150     0      2.3    0   \n",
              "1     37    1   2     130   250    0        1       187     0      3.5    0   \n",
              "2     41    0   1     130   204    0        0       172     0      1.4    2   \n",
              "3     56    1   1     120   236    0        1       178     0      0.8    2   \n",
              "4     57    0   0     120   354    0        1       163     1      0.6    2   \n",
              "..   ...  ...  ..     ...   ...  ...      ...       ...   ...      ...  ...   \n",
              "298   57    0   0     140   241    0        1       123     1      0.2    1   \n",
              "299   45    1   3     110   264    0        1       132     0      1.2    1   \n",
              "300   68    1   0     144   193    1        1       141     0      3.4    1   \n",
              "301   57    1   0     130   131    0        1       115     1      1.2    1   \n",
              "302   57    0   1     130   236    0        0       174     0      0.0    1   \n",
              "\n",
              "     caa  thall  output  \n",
              "0      0      1       1  \n",
              "1      0      2       1  \n",
              "2      0      2       1  \n",
              "3      0      2       1  \n",
              "4      0      2       1  \n",
              "..   ...    ...     ...  \n",
              "298    0      3       0  \n",
              "299    0      3       0  \n",
              "300    2      3       0  \n",
              "301    1      3       0  \n",
              "302    1      2       0  \n",
              "\n",
              "[303 rows x 14 columns]"
            ],
            "text/html": [
              "\n",
              "  <div id=\"df-ae9691c6-989d-4d27-b5db-34b2b8589af2\">\n",
              "    <div class=\"colab-df-container\">\n",
              "      <div>\n",
              "<style scoped>\n",
              "    .dataframe tbody tr th:only-of-type {\n",
              "        vertical-align: middle;\n",
              "    }\n",
              "\n",
              "    .dataframe tbody tr th {\n",
              "        vertical-align: top;\n",
              "    }\n",
              "\n",
              "    .dataframe thead th {\n",
              "        text-align: right;\n",
              "    }\n",
              "</style>\n",
              "<table border=\"1\" class=\"dataframe\">\n",
              "  <thead>\n",
              "    <tr style=\"text-align: right;\">\n",
              "      <th></th>\n",
              "      <th>age</th>\n",
              "      <th>sex</th>\n",
              "      <th>cp</th>\n",
              "      <th>trtbps</th>\n",
              "      <th>chol</th>\n",
              "      <th>fbs</th>\n",
              "      <th>restecg</th>\n",
              "      <th>thalachh</th>\n",
              "      <th>exng</th>\n",
              "      <th>oldpeak</th>\n",
              "      <th>slp</th>\n",
              "      <th>caa</th>\n",
              "      <th>thall</th>\n",
              "      <th>output</th>\n",
              "    </tr>\n",
              "  </thead>\n",
              "  <tbody>\n",
              "    <tr>\n",
              "      <th>0</th>\n",
              "      <td>63</td>\n",
              "      <td>1</td>\n",
              "      <td>3</td>\n",
              "      <td>145</td>\n",
              "      <td>233</td>\n",
              "      <td>1</td>\n",
              "      <td>0</td>\n",
              "      <td>150</td>\n",
              "      <td>0</td>\n",
              "      <td>2.3</td>\n",
              "      <td>0</td>\n",
              "      <td>0</td>\n",
              "      <td>1</td>\n",
              "      <td>1</td>\n",
              "    </tr>\n",
              "    <tr>\n",
              "      <th>1</th>\n",
              "      <td>37</td>\n",
              "      <td>1</td>\n",
              "      <td>2</td>\n",
              "      <td>130</td>\n",
              "      <td>250</td>\n",
              "      <td>0</td>\n",
              "      <td>1</td>\n",
              "      <td>187</td>\n",
              "      <td>0</td>\n",
              "      <td>3.5</td>\n",
              "      <td>0</td>\n",
              "      <td>0</td>\n",
              "      <td>2</td>\n",
              "      <td>1</td>\n",
              "    </tr>\n",
              "    <tr>\n",
              "      <th>2</th>\n",
              "      <td>41</td>\n",
              "      <td>0</td>\n",
              "      <td>1</td>\n",
              "      <td>130</td>\n",
              "      <td>204</td>\n",
              "      <td>0</td>\n",
              "      <td>0</td>\n",
              "      <td>172</td>\n",
              "      <td>0</td>\n",
              "      <td>1.4</td>\n",
              "      <td>2</td>\n",
              "      <td>0</td>\n",
              "      <td>2</td>\n",
              "      <td>1</td>\n",
              "    </tr>\n",
              "    <tr>\n",
              "      <th>3</th>\n",
              "      <td>56</td>\n",
              "      <td>1</td>\n",
              "      <td>1</td>\n",
              "      <td>120</td>\n",
              "      <td>236</td>\n",
              "      <td>0</td>\n",
              "      <td>1</td>\n",
              "      <td>178</td>\n",
              "      <td>0</td>\n",
              "      <td>0.8</td>\n",
              "      <td>2</td>\n",
              "      <td>0</td>\n",
              "      <td>2</td>\n",
              "      <td>1</td>\n",
              "    </tr>\n",
              "    <tr>\n",
              "      <th>4</th>\n",
              "      <td>57</td>\n",
              "      <td>0</td>\n",
              "      <td>0</td>\n",
              "      <td>120</td>\n",
              "      <td>354</td>\n",
              "      <td>0</td>\n",
              "      <td>1</td>\n",
              "      <td>163</td>\n",
              "      <td>1</td>\n",
              "      <td>0.6</td>\n",
              "      <td>2</td>\n",
              "      <td>0</td>\n",
              "      <td>2</td>\n",
              "      <td>1</td>\n",
              "    </tr>\n",
              "    <tr>\n",
              "      <th>...</th>\n",
              "      <td>...</td>\n",
              "      <td>...</td>\n",
              "      <td>...</td>\n",
              "      <td>...</td>\n",
              "      <td>...</td>\n",
              "      <td>...</td>\n",
              "      <td>...</td>\n",
              "      <td>...</td>\n",
              "      <td>...</td>\n",
              "      <td>...</td>\n",
              "      <td>...</td>\n",
              "      <td>...</td>\n",
              "      <td>...</td>\n",
              "      <td>...</td>\n",
              "    </tr>\n",
              "    <tr>\n",
              "      <th>298</th>\n",
              "      <td>57</td>\n",
              "      <td>0</td>\n",
              "      <td>0</td>\n",
              "      <td>140</td>\n",
              "      <td>241</td>\n",
              "      <td>0</td>\n",
              "      <td>1</td>\n",
              "      <td>123</td>\n",
              "      <td>1</td>\n",
              "      <td>0.2</td>\n",
              "      <td>1</td>\n",
              "      <td>0</td>\n",
              "      <td>3</td>\n",
              "      <td>0</td>\n",
              "    </tr>\n",
              "    <tr>\n",
              "      <th>299</th>\n",
              "      <td>45</td>\n",
              "      <td>1</td>\n",
              "      <td>3</td>\n",
              "      <td>110</td>\n",
              "      <td>264</td>\n",
              "      <td>0</td>\n",
              "      <td>1</td>\n",
              "      <td>132</td>\n",
              "      <td>0</td>\n",
              "      <td>1.2</td>\n",
              "      <td>1</td>\n",
              "      <td>0</td>\n",
              "      <td>3</td>\n",
              "      <td>0</td>\n",
              "    </tr>\n",
              "    <tr>\n",
              "      <th>300</th>\n",
              "      <td>68</td>\n",
              "      <td>1</td>\n",
              "      <td>0</td>\n",
              "      <td>144</td>\n",
              "      <td>193</td>\n",
              "      <td>1</td>\n",
              "      <td>1</td>\n",
              "      <td>141</td>\n",
              "      <td>0</td>\n",
              "      <td>3.4</td>\n",
              "      <td>1</td>\n",
              "      <td>2</td>\n",
              "      <td>3</td>\n",
              "      <td>0</td>\n",
              "    </tr>\n",
              "    <tr>\n",
              "      <th>301</th>\n",
              "      <td>57</td>\n",
              "      <td>1</td>\n",
              "      <td>0</td>\n",
              "      <td>130</td>\n",
              "      <td>131</td>\n",
              "      <td>0</td>\n",
              "      <td>1</td>\n",
              "      <td>115</td>\n",
              "      <td>1</td>\n",
              "      <td>1.2</td>\n",
              "      <td>1</td>\n",
              "      <td>1</td>\n",
              "      <td>3</td>\n",
              "      <td>0</td>\n",
              "    </tr>\n",
              "    <tr>\n",
              "      <th>302</th>\n",
              "      <td>57</td>\n",
              "      <td>0</td>\n",
              "      <td>1</td>\n",
              "      <td>130</td>\n",
              "      <td>236</td>\n",
              "      <td>0</td>\n",
              "      <td>0</td>\n",
              "      <td>174</td>\n",
              "      <td>0</td>\n",
              "      <td>0.0</td>\n",
              "      <td>1</td>\n",
              "      <td>1</td>\n",
              "      <td>2</td>\n",
              "      <td>0</td>\n",
              "    </tr>\n",
              "  </tbody>\n",
              "</table>\n",
              "<p>303 rows × 14 columns</p>\n",
              "</div>\n",
              "      <button class=\"colab-df-convert\" onclick=\"convertToInteractive('df-ae9691c6-989d-4d27-b5db-34b2b8589af2')\"\n",
              "              title=\"Convert this dataframe to an interactive table.\"\n",
              "              style=\"display:none;\">\n",
              "        \n",
              "  <svg xmlns=\"http://www.w3.org/2000/svg\" height=\"24px\"viewBox=\"0 0 24 24\"\n",
              "       width=\"24px\">\n",
              "    <path d=\"M0 0h24v24H0V0z\" fill=\"none\"/>\n",
              "    <path d=\"M18.56 5.44l.94 2.06.94-2.06 2.06-.94-2.06-.94-.94-2.06-.94 2.06-2.06.94zm-11 1L8.5 8.5l.94-2.06 2.06-.94-2.06-.94L8.5 2.5l-.94 2.06-2.06.94zm10 10l.94 2.06.94-2.06 2.06-.94-2.06-.94-.94-2.06-.94 2.06-2.06.94z\"/><path d=\"M17.41 7.96l-1.37-1.37c-.4-.4-.92-.59-1.43-.59-.52 0-1.04.2-1.43.59L10.3 9.45l-7.72 7.72c-.78.78-.78 2.05 0 2.83L4 21.41c.39.39.9.59 1.41.59.51 0 1.02-.2 1.41-.59l7.78-7.78 2.81-2.81c.8-.78.8-2.07 0-2.86zM5.41 20L4 18.59l7.72-7.72 1.47 1.35L5.41 20z\"/>\n",
              "  </svg>\n",
              "      </button>\n",
              "      \n",
              "  <style>\n",
              "    .colab-df-container {\n",
              "      display:flex;\n",
              "      flex-wrap:wrap;\n",
              "      gap: 12px;\n",
              "    }\n",
              "\n",
              "    .colab-df-convert {\n",
              "      background-color: #E8F0FE;\n",
              "      border: none;\n",
              "      border-radius: 50%;\n",
              "      cursor: pointer;\n",
              "      display: none;\n",
              "      fill: #1967D2;\n",
              "      height: 32px;\n",
              "      padding: 0 0 0 0;\n",
              "      width: 32px;\n",
              "    }\n",
              "\n",
              "    .colab-df-convert:hover {\n",
              "      background-color: #E2EBFA;\n",
              "      box-shadow: 0px 1px 2px rgba(60, 64, 67, 0.3), 0px 1px 3px 1px rgba(60, 64, 67, 0.15);\n",
              "      fill: #174EA6;\n",
              "    }\n",
              "\n",
              "    [theme=dark] .colab-df-convert {\n",
              "      background-color: #3B4455;\n",
              "      fill: #D2E3FC;\n",
              "    }\n",
              "\n",
              "    [theme=dark] .colab-df-convert:hover {\n",
              "      background-color: #434B5C;\n",
              "      box-shadow: 0px 1px 3px 1px rgba(0, 0, 0, 0.15);\n",
              "      filter: drop-shadow(0px 1px 2px rgba(0, 0, 0, 0.3));\n",
              "      fill: #FFFFFF;\n",
              "    }\n",
              "  </style>\n",
              "\n",
              "      <script>\n",
              "        const buttonEl =\n",
              "          document.querySelector('#df-ae9691c6-989d-4d27-b5db-34b2b8589af2 button.colab-df-convert');\n",
              "        buttonEl.style.display =\n",
              "          google.colab.kernel.accessAllowed ? 'block' : 'none';\n",
              "\n",
              "        async function convertToInteractive(key) {\n",
              "          const element = document.querySelector('#df-ae9691c6-989d-4d27-b5db-34b2b8589af2');\n",
              "          const dataTable =\n",
              "            await google.colab.kernel.invokeFunction('convertToInteractive',\n",
              "                                                     [key], {});\n",
              "          if (!dataTable) return;\n",
              "\n",
              "          const docLinkHtml = 'Like what you see? Visit the ' +\n",
              "            '<a target=\"_blank\" href=https://colab.research.google.com/notebooks/data_table.ipynb>data table notebook</a>'\n",
              "            + ' to learn more about interactive tables.';\n",
              "          element.innerHTML = '';\n",
              "          dataTable['output_type'] = 'display_data';\n",
              "          await google.colab.output.renderOutput(dataTable, element);\n",
              "          const docLink = document.createElement('div');\n",
              "          docLink.innerHTML = docLinkHtml;\n",
              "          element.appendChild(docLink);\n",
              "        }\n",
              "      </script>\n",
              "    </div>\n",
              "  </div>\n",
              "  "
            ]
          },
          "metadata": {},
          "execution_count": 4
        }
      ]
    },
    {
      "cell_type": "code",
      "source": [
        "# renomeia as colunas e atribui a um novo dataset\n",
        "df2 = df.rename(columns = {'age':'idade', 'sex':'sexo',\n",
        "                           'cp':'td_peito', 'trtbps':'pa_repouso','chol':'colesterol',\n",
        "                           'fbs':'as_jejum', 'restecg':'re_repouso', 'thalachh':'fm_cardiaca',\n",
        "                           'exng':'ai_exercicio', 'oldpeak':'pico_anterior', 'slp':'declive',\n",
        "                           'caa':'nv_sanguineo', 'thall':'taxa_thall', 'output':'resultado'})\n"
      ],
      "metadata": {
        "id": "-vbWvkLG8TbS"
      },
      "execution_count": null,
      "outputs": []
    },
    {
      "cell_type": "code",
      "source": [
        "# exporta a base para csv\n",
        "df2.to_csv(\"df2.csv\", encoding = 'utf-8', index = False)"
      ],
      "metadata": {
        "id": "nlJZeLO-Xti5"
      },
      "execution_count": null,
      "outputs": []
    },
    {
      "cell_type": "code",
      "source": [
        "df2"
      ],
      "metadata": {
        "id": "UwgCmYYZ-nzU"
      },
      "execution_count": null,
      "outputs": []
    },
    {
      "cell_type": "markdown",
      "source": [
        "## DICIONÁRIO DE DADOS\n",
        "\n",
        "\n",
        "Idade: idade do paciente\n",
        "\n",
        "Sexo: Sexo do paciente\n",
        "\n",
        "ai_exercicio: angina induzida por exercício (1 = sim; 0 = não)\n",
        "\n",
        "nv_sanguineo: número de vasos principais (0-3)\n",
        "\n",
        "td_peito : Tipo de dor no peito tipo de dor no peito\n",
        "\n",
        "- Valor 1: angina típica\n",
        "- Valor 2: angina atípica\n",
        "- Valor 3: dor não anginosa\n",
        "- Valor 4: assintomático\n",
        "\n",
        "pa_repouso - pressão arterial em repouso (em mm Hg na admissão no hospital)\n",
        "\n",
        "colesterol : colestoral em mg/dl obtido via sensor de IMC\n",
        "\n",
        "as_jejum: (açúcar no sangue em jejum > 120 mg/dl) (1 = verdadeiro; 0 = falso)\n",
        "\n",
        "re_repouso : resultados eletrocardiográficos em repouso\n",
        "\n",
        "- Valor 0: normal\n",
        "- Valor 1: tendo anormalidade da onda ST-T (inversões da onda T e/ou elevação ou depressão ST > 0,05 mV)\n",
        "- Valor 2: mostrando hipertrofia ventricular esquerda provável ou definitiva pelos critérios de Estes\n",
        "\n",
        "fm_cardiaca: frequência cardíaca máxima alcançada\n",
        "\n",
        "pico_anterior - pico anterior\n",
        "\n",
        "declive - declive\n",
        "\n",
        "taxa_thall - taxa thal\n",
        "\n",
        "resultado:\n",
        "- 0 = menos chance de ataque cardíaco\n",
        "- 1 = mais chance de ataque cardíaco"
      ],
      "metadata": {
        "id": "dJiwq72UBo2s"
      }
    },
    {
      "cell_type": "markdown",
      "source": [
        "# ANÁLISE EXPLORATÓRIA\n"
      ],
      "metadata": {
        "id": "prkfjJK-yk2H"
      }
    },
    {
      "cell_type": "code",
      "source": [
        "df2"
      ],
      "metadata": {
        "id": "KtAiqnkR8oBt",
        "colab": {
          "base_uri": "https://localhost:8080/",
          "height": 487
        },
        "outputId": "33c91021-247a-4985-ec09-4cbb9d77c5e1"
      },
      "execution_count": null,
      "outputs": [
        {
          "output_type": "execute_result",
          "data": {
            "text/plain": [
              "     idade  sexo  td_peito  pa_repouso  colesterol  as_jejum  re_repouso  \\\n",
              "0       63     1         3         145         233         1           0   \n",
              "1       37     1         2         130         250         0           1   \n",
              "2       41     0         1         130         204         0           0   \n",
              "3       56     1         1         120         236         0           1   \n",
              "4       57     0         0         120         354         0           1   \n",
              "..     ...   ...       ...         ...         ...       ...         ...   \n",
              "298     57     0         0         140         241         0           1   \n",
              "299     45     1         3         110         264         0           1   \n",
              "300     68     1         0         144         193         1           1   \n",
              "301     57     1         0         130         131         0           1   \n",
              "302     57     0         1         130         236         0           0   \n",
              "\n",
              "     fm_cardiaca  ai_exercicio  pico_anterior  declive  nv_sanguineo  \\\n",
              "0            150             0            2.3        0             0   \n",
              "1            187             0            3.5        0             0   \n",
              "2            172             0            1.4        2             0   \n",
              "3            178             0            0.8        2             0   \n",
              "4            163             1            0.6        2             0   \n",
              "..           ...           ...            ...      ...           ...   \n",
              "298          123             1            0.2        1             0   \n",
              "299          132             0            1.2        1             0   \n",
              "300          141             0            3.4        1             2   \n",
              "301          115             1            1.2        1             1   \n",
              "302          174             0            0.0        1             1   \n",
              "\n",
              "     taxa_thall  resultado  \n",
              "0             1          1  \n",
              "1             2          1  \n",
              "2             2          1  \n",
              "3             2          1  \n",
              "4             2          1  \n",
              "..          ...        ...  \n",
              "298           3          0  \n",
              "299           3          0  \n",
              "300           3          0  \n",
              "301           3          0  \n",
              "302           2          0  \n",
              "\n",
              "[303 rows x 14 columns]"
            ],
            "text/html": [
              "\n",
              "  <div id=\"df-7aed5789-eca8-4206-83b9-03bca48a2968\">\n",
              "    <div class=\"colab-df-container\">\n",
              "      <div>\n",
              "<style scoped>\n",
              "    .dataframe tbody tr th:only-of-type {\n",
              "        vertical-align: middle;\n",
              "    }\n",
              "\n",
              "    .dataframe tbody tr th {\n",
              "        vertical-align: top;\n",
              "    }\n",
              "\n",
              "    .dataframe thead th {\n",
              "        text-align: right;\n",
              "    }\n",
              "</style>\n",
              "<table border=\"1\" class=\"dataframe\">\n",
              "  <thead>\n",
              "    <tr style=\"text-align: right;\">\n",
              "      <th></th>\n",
              "      <th>idade</th>\n",
              "      <th>sexo</th>\n",
              "      <th>td_peito</th>\n",
              "      <th>pa_repouso</th>\n",
              "      <th>colesterol</th>\n",
              "      <th>as_jejum</th>\n",
              "      <th>re_repouso</th>\n",
              "      <th>fm_cardiaca</th>\n",
              "      <th>ai_exercicio</th>\n",
              "      <th>pico_anterior</th>\n",
              "      <th>declive</th>\n",
              "      <th>nv_sanguineo</th>\n",
              "      <th>taxa_thall</th>\n",
              "      <th>resultado</th>\n",
              "    </tr>\n",
              "  </thead>\n",
              "  <tbody>\n",
              "    <tr>\n",
              "      <th>0</th>\n",
              "      <td>63</td>\n",
              "      <td>1</td>\n",
              "      <td>3</td>\n",
              "      <td>145</td>\n",
              "      <td>233</td>\n",
              "      <td>1</td>\n",
              "      <td>0</td>\n",
              "      <td>150</td>\n",
              "      <td>0</td>\n",
              "      <td>2.3</td>\n",
              "      <td>0</td>\n",
              "      <td>0</td>\n",
              "      <td>1</td>\n",
              "      <td>1</td>\n",
              "    </tr>\n",
              "    <tr>\n",
              "      <th>1</th>\n",
              "      <td>37</td>\n",
              "      <td>1</td>\n",
              "      <td>2</td>\n",
              "      <td>130</td>\n",
              "      <td>250</td>\n",
              "      <td>0</td>\n",
              "      <td>1</td>\n",
              "      <td>187</td>\n",
              "      <td>0</td>\n",
              "      <td>3.5</td>\n",
              "      <td>0</td>\n",
              "      <td>0</td>\n",
              "      <td>2</td>\n",
              "      <td>1</td>\n",
              "    </tr>\n",
              "    <tr>\n",
              "      <th>2</th>\n",
              "      <td>41</td>\n",
              "      <td>0</td>\n",
              "      <td>1</td>\n",
              "      <td>130</td>\n",
              "      <td>204</td>\n",
              "      <td>0</td>\n",
              "      <td>0</td>\n",
              "      <td>172</td>\n",
              "      <td>0</td>\n",
              "      <td>1.4</td>\n",
              "      <td>2</td>\n",
              "      <td>0</td>\n",
              "      <td>2</td>\n",
              "      <td>1</td>\n",
              "    </tr>\n",
              "    <tr>\n",
              "      <th>3</th>\n",
              "      <td>56</td>\n",
              "      <td>1</td>\n",
              "      <td>1</td>\n",
              "      <td>120</td>\n",
              "      <td>236</td>\n",
              "      <td>0</td>\n",
              "      <td>1</td>\n",
              "      <td>178</td>\n",
              "      <td>0</td>\n",
              "      <td>0.8</td>\n",
              "      <td>2</td>\n",
              "      <td>0</td>\n",
              "      <td>2</td>\n",
              "      <td>1</td>\n",
              "    </tr>\n",
              "    <tr>\n",
              "      <th>4</th>\n",
              "      <td>57</td>\n",
              "      <td>0</td>\n",
              "      <td>0</td>\n",
              "      <td>120</td>\n",
              "      <td>354</td>\n",
              "      <td>0</td>\n",
              "      <td>1</td>\n",
              "      <td>163</td>\n",
              "      <td>1</td>\n",
              "      <td>0.6</td>\n",
              "      <td>2</td>\n",
              "      <td>0</td>\n",
              "      <td>2</td>\n",
              "      <td>1</td>\n",
              "    </tr>\n",
              "    <tr>\n",
              "      <th>...</th>\n",
              "      <td>...</td>\n",
              "      <td>...</td>\n",
              "      <td>...</td>\n",
              "      <td>...</td>\n",
              "      <td>...</td>\n",
              "      <td>...</td>\n",
              "      <td>...</td>\n",
              "      <td>...</td>\n",
              "      <td>...</td>\n",
              "      <td>...</td>\n",
              "      <td>...</td>\n",
              "      <td>...</td>\n",
              "      <td>...</td>\n",
              "      <td>...</td>\n",
              "    </tr>\n",
              "    <tr>\n",
              "      <th>298</th>\n",
              "      <td>57</td>\n",
              "      <td>0</td>\n",
              "      <td>0</td>\n",
              "      <td>140</td>\n",
              "      <td>241</td>\n",
              "      <td>0</td>\n",
              "      <td>1</td>\n",
              "      <td>123</td>\n",
              "      <td>1</td>\n",
              "      <td>0.2</td>\n",
              "      <td>1</td>\n",
              "      <td>0</td>\n",
              "      <td>3</td>\n",
              "      <td>0</td>\n",
              "    </tr>\n",
              "    <tr>\n",
              "      <th>299</th>\n",
              "      <td>45</td>\n",
              "      <td>1</td>\n",
              "      <td>3</td>\n",
              "      <td>110</td>\n",
              "      <td>264</td>\n",
              "      <td>0</td>\n",
              "      <td>1</td>\n",
              "      <td>132</td>\n",
              "      <td>0</td>\n",
              "      <td>1.2</td>\n",
              "      <td>1</td>\n",
              "      <td>0</td>\n",
              "      <td>3</td>\n",
              "      <td>0</td>\n",
              "    </tr>\n",
              "    <tr>\n",
              "      <th>300</th>\n",
              "      <td>68</td>\n",
              "      <td>1</td>\n",
              "      <td>0</td>\n",
              "      <td>144</td>\n",
              "      <td>193</td>\n",
              "      <td>1</td>\n",
              "      <td>1</td>\n",
              "      <td>141</td>\n",
              "      <td>0</td>\n",
              "      <td>3.4</td>\n",
              "      <td>1</td>\n",
              "      <td>2</td>\n",
              "      <td>3</td>\n",
              "      <td>0</td>\n",
              "    </tr>\n",
              "    <tr>\n",
              "      <th>301</th>\n",
              "      <td>57</td>\n",
              "      <td>1</td>\n",
              "      <td>0</td>\n",
              "      <td>130</td>\n",
              "      <td>131</td>\n",
              "      <td>0</td>\n",
              "      <td>1</td>\n",
              "      <td>115</td>\n",
              "      <td>1</td>\n",
              "      <td>1.2</td>\n",
              "      <td>1</td>\n",
              "      <td>1</td>\n",
              "      <td>3</td>\n",
              "      <td>0</td>\n",
              "    </tr>\n",
              "    <tr>\n",
              "      <th>302</th>\n",
              "      <td>57</td>\n",
              "      <td>0</td>\n",
              "      <td>1</td>\n",
              "      <td>130</td>\n",
              "      <td>236</td>\n",
              "      <td>0</td>\n",
              "      <td>0</td>\n",
              "      <td>174</td>\n",
              "      <td>0</td>\n",
              "      <td>0.0</td>\n",
              "      <td>1</td>\n",
              "      <td>1</td>\n",
              "      <td>2</td>\n",
              "      <td>0</td>\n",
              "    </tr>\n",
              "  </tbody>\n",
              "</table>\n",
              "<p>303 rows × 14 columns</p>\n",
              "</div>\n",
              "      <button class=\"colab-df-convert\" onclick=\"convertToInteractive('df-7aed5789-eca8-4206-83b9-03bca48a2968')\"\n",
              "              title=\"Convert this dataframe to an interactive table.\"\n",
              "              style=\"display:none;\">\n",
              "        \n",
              "  <svg xmlns=\"http://www.w3.org/2000/svg\" height=\"24px\"viewBox=\"0 0 24 24\"\n",
              "       width=\"24px\">\n",
              "    <path d=\"M0 0h24v24H0V0z\" fill=\"none\"/>\n",
              "    <path d=\"M18.56 5.44l.94 2.06.94-2.06 2.06-.94-2.06-.94-.94-2.06-.94 2.06-2.06.94zm-11 1L8.5 8.5l.94-2.06 2.06-.94-2.06-.94L8.5 2.5l-.94 2.06-2.06.94zm10 10l.94 2.06.94-2.06 2.06-.94-2.06-.94-.94-2.06-.94 2.06-2.06.94z\"/><path d=\"M17.41 7.96l-1.37-1.37c-.4-.4-.92-.59-1.43-.59-.52 0-1.04.2-1.43.59L10.3 9.45l-7.72 7.72c-.78.78-.78 2.05 0 2.83L4 21.41c.39.39.9.59 1.41.59.51 0 1.02-.2 1.41-.59l7.78-7.78 2.81-2.81c.8-.78.8-2.07 0-2.86zM5.41 20L4 18.59l7.72-7.72 1.47 1.35L5.41 20z\"/>\n",
              "  </svg>\n",
              "      </button>\n",
              "      \n",
              "  <style>\n",
              "    .colab-df-container {\n",
              "      display:flex;\n",
              "      flex-wrap:wrap;\n",
              "      gap: 12px;\n",
              "    }\n",
              "\n",
              "    .colab-df-convert {\n",
              "      background-color: #E8F0FE;\n",
              "      border: none;\n",
              "      border-radius: 50%;\n",
              "      cursor: pointer;\n",
              "      display: none;\n",
              "      fill: #1967D2;\n",
              "      height: 32px;\n",
              "      padding: 0 0 0 0;\n",
              "      width: 32px;\n",
              "    }\n",
              "\n",
              "    .colab-df-convert:hover {\n",
              "      background-color: #E2EBFA;\n",
              "      box-shadow: 0px 1px 2px rgba(60, 64, 67, 0.3), 0px 1px 3px 1px rgba(60, 64, 67, 0.15);\n",
              "      fill: #174EA6;\n",
              "    }\n",
              "\n",
              "    [theme=dark] .colab-df-convert {\n",
              "      background-color: #3B4455;\n",
              "      fill: #D2E3FC;\n",
              "    }\n",
              "\n",
              "    [theme=dark] .colab-df-convert:hover {\n",
              "      background-color: #434B5C;\n",
              "      box-shadow: 0px 1px 3px 1px rgba(0, 0, 0, 0.15);\n",
              "      filter: drop-shadow(0px 1px 2px rgba(0, 0, 0, 0.3));\n",
              "      fill: #FFFFFF;\n",
              "    }\n",
              "  </style>\n",
              "\n",
              "      <script>\n",
              "        const buttonEl =\n",
              "          document.querySelector('#df-7aed5789-eca8-4206-83b9-03bca48a2968 button.colab-df-convert');\n",
              "        buttonEl.style.display =\n",
              "          google.colab.kernel.accessAllowed ? 'block' : 'none';\n",
              "\n",
              "        async function convertToInteractive(key) {\n",
              "          const element = document.querySelector('#df-7aed5789-eca8-4206-83b9-03bca48a2968');\n",
              "          const dataTable =\n",
              "            await google.colab.kernel.invokeFunction('convertToInteractive',\n",
              "                                                     [key], {});\n",
              "          if (!dataTable) return;\n",
              "\n",
              "          const docLinkHtml = 'Like what you see? Visit the ' +\n",
              "            '<a target=\"_blank\" href=https://colab.research.google.com/notebooks/data_table.ipynb>data table notebook</a>'\n",
              "            + ' to learn more about interactive tables.';\n",
              "          element.innerHTML = '';\n",
              "          dataTable['output_type'] = 'display_data';\n",
              "          await google.colab.output.renderOutput(dataTable, element);\n",
              "          const docLink = document.createElement('div');\n",
              "          docLink.innerHTML = docLinkHtml;\n",
              "          element.appendChild(docLink);\n",
              "        }\n",
              "      </script>\n",
              "    </div>\n",
              "  </div>\n",
              "  "
            ]
          },
          "metadata": {},
          "execution_count": 5
        }
      ]
    },
    {
      "cell_type": "code",
      "source": [
        "# informacoes sobre o dataset 2\n",
        "df2.info()"
      ],
      "metadata": {
        "id": "O0N-u5tO42XB",
        "colab": {
          "base_uri": "https://localhost:8080/"
        },
        "outputId": "f7c84c62-4440-43e7-bc40-1367d6873cea"
      },
      "execution_count": null,
      "outputs": [
        {
          "output_type": "stream",
          "name": "stdout",
          "text": [
            "<class 'pandas.core.frame.DataFrame'>\n",
            "RangeIndex: 303 entries, 0 to 302\n",
            "Data columns (total 14 columns):\n",
            " #   Column         Non-Null Count  Dtype  \n",
            "---  ------         --------------  -----  \n",
            " 0   idade          303 non-null    int64  \n",
            " 1   sexo           303 non-null    int64  \n",
            " 2   td_peito       303 non-null    int64  \n",
            " 3   pa_repouso     303 non-null    int64  \n",
            " 4   colesterol     303 non-null    int64  \n",
            " 5   as_jejum       303 non-null    int64  \n",
            " 6   re_repouso     303 non-null    int64  \n",
            " 7   fm_cardiaca    303 non-null    int64  \n",
            " 8   ai_exercicio   303 non-null    int64  \n",
            " 9   pico_anterior  303 non-null    float64\n",
            " 10  declive        303 non-null    int64  \n",
            " 11  nv_sanguineo   303 non-null    int64  \n",
            " 12  taxa_thall     303 non-null    int64  \n",
            " 13  resultado      303 non-null    int64  \n",
            "dtypes: float64(1), int64(13)\n",
            "memory usage: 33.3 KB\n"
          ]
        }
      ]
    },
    {
      "cell_type": "code",
      "source": [
        "# algumas medidas do dataset\n",
        "df2.describe().round(2)"
      ],
      "metadata": {
        "colab": {
          "base_uri": "https://localhost:8080/",
          "height": 344
        },
        "id": "m2NMTa0jJQe6",
        "outputId": "ad2fd433-bf7b-4eca-a1b0-5ecb847e8922"
      },
      "execution_count": null,
      "outputs": [
        {
          "output_type": "execute_result",
          "data": {
            "text/plain": [
              "        idade    sexo  td_peito  pa_repouso  colesterol  as_jejum  re_repouso  \\\n",
              "count  303.00  303.00    303.00      303.00      303.00    303.00      303.00   \n",
              "mean    54.37    0.68      0.97      131.62      246.26      0.15        0.53   \n",
              "std      9.08    0.47      1.03       17.54       51.83      0.36        0.53   \n",
              "min     29.00    0.00      0.00       94.00      126.00      0.00        0.00   \n",
              "25%     47.50    0.00      0.00      120.00      211.00      0.00        0.00   \n",
              "50%     55.00    1.00      1.00      130.00      240.00      0.00        1.00   \n",
              "75%     61.00    1.00      2.00      140.00      274.50      0.00        1.00   \n",
              "max     77.00    1.00      3.00      200.00      564.00      1.00        2.00   \n",
              "\n",
              "       fm_cardiaca  ai_exercicio  pico_anterior  declive  nv_sanguineo  \\\n",
              "count       303.00        303.00         303.00   303.00        303.00   \n",
              "mean        149.65          0.33           1.04     1.40          0.73   \n",
              "std          22.91          0.47           1.16     0.62          1.02   \n",
              "min          71.00          0.00           0.00     0.00          0.00   \n",
              "25%         133.50          0.00           0.00     1.00          0.00   \n",
              "50%         153.00          0.00           0.80     1.00          0.00   \n",
              "75%         166.00          1.00           1.60     2.00          1.00   \n",
              "max         202.00          1.00           6.20     2.00          4.00   \n",
              "\n",
              "       taxa_thall  resultado  \n",
              "count      303.00     303.00  \n",
              "mean         2.31       0.54  \n",
              "std          0.61       0.50  \n",
              "min          0.00       0.00  \n",
              "25%          2.00       0.00  \n",
              "50%          2.00       1.00  \n",
              "75%          3.00       1.00  \n",
              "max          3.00       1.00  "
            ],
            "text/html": [
              "\n",
              "  <div id=\"df-c358aab8-93af-4b40-9aa1-5e76525eeab5\">\n",
              "    <div class=\"colab-df-container\">\n",
              "      <div>\n",
              "<style scoped>\n",
              "    .dataframe tbody tr th:only-of-type {\n",
              "        vertical-align: middle;\n",
              "    }\n",
              "\n",
              "    .dataframe tbody tr th {\n",
              "        vertical-align: top;\n",
              "    }\n",
              "\n",
              "    .dataframe thead th {\n",
              "        text-align: right;\n",
              "    }\n",
              "</style>\n",
              "<table border=\"1\" class=\"dataframe\">\n",
              "  <thead>\n",
              "    <tr style=\"text-align: right;\">\n",
              "      <th></th>\n",
              "      <th>idade</th>\n",
              "      <th>sexo</th>\n",
              "      <th>td_peito</th>\n",
              "      <th>pa_repouso</th>\n",
              "      <th>colesterol</th>\n",
              "      <th>as_jejum</th>\n",
              "      <th>re_repouso</th>\n",
              "      <th>fm_cardiaca</th>\n",
              "      <th>ai_exercicio</th>\n",
              "      <th>pico_anterior</th>\n",
              "      <th>declive</th>\n",
              "      <th>nv_sanguineo</th>\n",
              "      <th>taxa_thall</th>\n",
              "      <th>resultado</th>\n",
              "    </tr>\n",
              "  </thead>\n",
              "  <tbody>\n",
              "    <tr>\n",
              "      <th>count</th>\n",
              "      <td>303.00</td>\n",
              "      <td>303.00</td>\n",
              "      <td>303.00</td>\n",
              "      <td>303.00</td>\n",
              "      <td>303.00</td>\n",
              "      <td>303.00</td>\n",
              "      <td>303.00</td>\n",
              "      <td>303.00</td>\n",
              "      <td>303.00</td>\n",
              "      <td>303.00</td>\n",
              "      <td>303.00</td>\n",
              "      <td>303.00</td>\n",
              "      <td>303.00</td>\n",
              "      <td>303.00</td>\n",
              "    </tr>\n",
              "    <tr>\n",
              "      <th>mean</th>\n",
              "      <td>54.37</td>\n",
              "      <td>0.68</td>\n",
              "      <td>0.97</td>\n",
              "      <td>131.62</td>\n",
              "      <td>246.26</td>\n",
              "      <td>0.15</td>\n",
              "      <td>0.53</td>\n",
              "      <td>149.65</td>\n",
              "      <td>0.33</td>\n",
              "      <td>1.04</td>\n",
              "      <td>1.40</td>\n",
              "      <td>0.73</td>\n",
              "      <td>2.31</td>\n",
              "      <td>0.54</td>\n",
              "    </tr>\n",
              "    <tr>\n",
              "      <th>std</th>\n",
              "      <td>9.08</td>\n",
              "      <td>0.47</td>\n",
              "      <td>1.03</td>\n",
              "      <td>17.54</td>\n",
              "      <td>51.83</td>\n",
              "      <td>0.36</td>\n",
              "      <td>0.53</td>\n",
              "      <td>22.91</td>\n",
              "      <td>0.47</td>\n",
              "      <td>1.16</td>\n",
              "      <td>0.62</td>\n",
              "      <td>1.02</td>\n",
              "      <td>0.61</td>\n",
              "      <td>0.50</td>\n",
              "    </tr>\n",
              "    <tr>\n",
              "      <th>min</th>\n",
              "      <td>29.00</td>\n",
              "      <td>0.00</td>\n",
              "      <td>0.00</td>\n",
              "      <td>94.00</td>\n",
              "      <td>126.00</td>\n",
              "      <td>0.00</td>\n",
              "      <td>0.00</td>\n",
              "      <td>71.00</td>\n",
              "      <td>0.00</td>\n",
              "      <td>0.00</td>\n",
              "      <td>0.00</td>\n",
              "      <td>0.00</td>\n",
              "      <td>0.00</td>\n",
              "      <td>0.00</td>\n",
              "    </tr>\n",
              "    <tr>\n",
              "      <th>25%</th>\n",
              "      <td>47.50</td>\n",
              "      <td>0.00</td>\n",
              "      <td>0.00</td>\n",
              "      <td>120.00</td>\n",
              "      <td>211.00</td>\n",
              "      <td>0.00</td>\n",
              "      <td>0.00</td>\n",
              "      <td>133.50</td>\n",
              "      <td>0.00</td>\n",
              "      <td>0.00</td>\n",
              "      <td>1.00</td>\n",
              "      <td>0.00</td>\n",
              "      <td>2.00</td>\n",
              "      <td>0.00</td>\n",
              "    </tr>\n",
              "    <tr>\n",
              "      <th>50%</th>\n",
              "      <td>55.00</td>\n",
              "      <td>1.00</td>\n",
              "      <td>1.00</td>\n",
              "      <td>130.00</td>\n",
              "      <td>240.00</td>\n",
              "      <td>0.00</td>\n",
              "      <td>1.00</td>\n",
              "      <td>153.00</td>\n",
              "      <td>0.00</td>\n",
              "      <td>0.80</td>\n",
              "      <td>1.00</td>\n",
              "      <td>0.00</td>\n",
              "      <td>2.00</td>\n",
              "      <td>1.00</td>\n",
              "    </tr>\n",
              "    <tr>\n",
              "      <th>75%</th>\n",
              "      <td>61.00</td>\n",
              "      <td>1.00</td>\n",
              "      <td>2.00</td>\n",
              "      <td>140.00</td>\n",
              "      <td>274.50</td>\n",
              "      <td>0.00</td>\n",
              "      <td>1.00</td>\n",
              "      <td>166.00</td>\n",
              "      <td>1.00</td>\n",
              "      <td>1.60</td>\n",
              "      <td>2.00</td>\n",
              "      <td>1.00</td>\n",
              "      <td>3.00</td>\n",
              "      <td>1.00</td>\n",
              "    </tr>\n",
              "    <tr>\n",
              "      <th>max</th>\n",
              "      <td>77.00</td>\n",
              "      <td>1.00</td>\n",
              "      <td>3.00</td>\n",
              "      <td>200.00</td>\n",
              "      <td>564.00</td>\n",
              "      <td>1.00</td>\n",
              "      <td>2.00</td>\n",
              "      <td>202.00</td>\n",
              "      <td>1.00</td>\n",
              "      <td>6.20</td>\n",
              "      <td>2.00</td>\n",
              "      <td>4.00</td>\n",
              "      <td>3.00</td>\n",
              "      <td>1.00</td>\n",
              "    </tr>\n",
              "  </tbody>\n",
              "</table>\n",
              "</div>\n",
              "      <button class=\"colab-df-convert\" onclick=\"convertToInteractive('df-c358aab8-93af-4b40-9aa1-5e76525eeab5')\"\n",
              "              title=\"Convert this dataframe to an interactive table.\"\n",
              "              style=\"display:none;\">\n",
              "        \n",
              "  <svg xmlns=\"http://www.w3.org/2000/svg\" height=\"24px\"viewBox=\"0 0 24 24\"\n",
              "       width=\"24px\">\n",
              "    <path d=\"M0 0h24v24H0V0z\" fill=\"none\"/>\n",
              "    <path d=\"M18.56 5.44l.94 2.06.94-2.06 2.06-.94-2.06-.94-.94-2.06-.94 2.06-2.06.94zm-11 1L8.5 8.5l.94-2.06 2.06-.94-2.06-.94L8.5 2.5l-.94 2.06-2.06.94zm10 10l.94 2.06.94-2.06 2.06-.94-2.06-.94-.94-2.06-.94 2.06-2.06.94z\"/><path d=\"M17.41 7.96l-1.37-1.37c-.4-.4-.92-.59-1.43-.59-.52 0-1.04.2-1.43.59L10.3 9.45l-7.72 7.72c-.78.78-.78 2.05 0 2.83L4 21.41c.39.39.9.59 1.41.59.51 0 1.02-.2 1.41-.59l7.78-7.78 2.81-2.81c.8-.78.8-2.07 0-2.86zM5.41 20L4 18.59l7.72-7.72 1.47 1.35L5.41 20z\"/>\n",
              "  </svg>\n",
              "      </button>\n",
              "      \n",
              "  <style>\n",
              "    .colab-df-container {\n",
              "      display:flex;\n",
              "      flex-wrap:wrap;\n",
              "      gap: 12px;\n",
              "    }\n",
              "\n",
              "    .colab-df-convert {\n",
              "      background-color: #E8F0FE;\n",
              "      border: none;\n",
              "      border-radius: 50%;\n",
              "      cursor: pointer;\n",
              "      display: none;\n",
              "      fill: #1967D2;\n",
              "      height: 32px;\n",
              "      padding: 0 0 0 0;\n",
              "      width: 32px;\n",
              "    }\n",
              "\n",
              "    .colab-df-convert:hover {\n",
              "      background-color: #E2EBFA;\n",
              "      box-shadow: 0px 1px 2px rgba(60, 64, 67, 0.3), 0px 1px 3px 1px rgba(60, 64, 67, 0.15);\n",
              "      fill: #174EA6;\n",
              "    }\n",
              "\n",
              "    [theme=dark] .colab-df-convert {\n",
              "      background-color: #3B4455;\n",
              "      fill: #D2E3FC;\n",
              "    }\n",
              "\n",
              "    [theme=dark] .colab-df-convert:hover {\n",
              "      background-color: #434B5C;\n",
              "      box-shadow: 0px 1px 3px 1px rgba(0, 0, 0, 0.15);\n",
              "      filter: drop-shadow(0px 1px 2px rgba(0, 0, 0, 0.3));\n",
              "      fill: #FFFFFF;\n",
              "    }\n",
              "  </style>\n",
              "\n",
              "      <script>\n",
              "        const buttonEl =\n",
              "          document.querySelector('#df-c358aab8-93af-4b40-9aa1-5e76525eeab5 button.colab-df-convert');\n",
              "        buttonEl.style.display =\n",
              "          google.colab.kernel.accessAllowed ? 'block' : 'none';\n",
              "\n",
              "        async function convertToInteractive(key) {\n",
              "          const element = document.querySelector('#df-c358aab8-93af-4b40-9aa1-5e76525eeab5');\n",
              "          const dataTable =\n",
              "            await google.colab.kernel.invokeFunction('convertToInteractive',\n",
              "                                                     [key], {});\n",
              "          if (!dataTable) return;\n",
              "\n",
              "          const docLinkHtml = 'Like what you see? Visit the ' +\n",
              "            '<a target=\"_blank\" href=https://colab.research.google.com/notebooks/data_table.ipynb>data table notebook</a>'\n",
              "            + ' to learn more about interactive tables.';\n",
              "          element.innerHTML = '';\n",
              "          dataTable['output_type'] = 'display_data';\n",
              "          await google.colab.output.renderOutput(dataTable, element);\n",
              "          const docLink = document.createElement('div');\n",
              "          docLink.innerHTML = docLinkHtml;\n",
              "          element.appendChild(docLink);\n",
              "        }\n",
              "      </script>\n",
              "    </div>\n",
              "  </div>\n",
              "  "
            ]
          },
          "metadata": {},
          "execution_count": 5
        }
      ]
    },
    {
      "cell_type": "markdown",
      "source": [
        "Acima temos algumas medidas aritméticas, a onde conseguimos ver a quantidade de cada variável, a média, o desvio padão, o valor mínimo, o primeiro quartil, o segundo quartil, o terceiro quartil e o valor máximo. "
      ],
      "metadata": {
        "id": "g859De1kJVVw"
      }
    },
    {
      "cell_type": "markdown",
      "source": [
        "De acordo com a visualização acima, é possível notar que as pessoas que tem entre 50 e 65 anos tiveram mais ataques cardíacos."
      ],
      "metadata": {
        "id": "79rGBrLezUmv"
      }
    },
    {
      "cell_type": "markdown",
      "source": [
        "# GRÁFICOS"
      ],
      "metadata": {
        "id": "_QgMr1Kt2AIY"
      }
    },
    {
      "cell_type": "code",
      "source": [
        "# conta o resultado agrupado pela idade\n",
        "qtd_resultado_idade = df2.groupby('idade').count()['resultado']\n",
        "qtd_resultado_idade"
      ],
      "metadata": {
        "id": "ShDB6ZMP0yY5",
        "colab": {
          "base_uri": "https://localhost:8080/"
        },
        "outputId": "c35c1181-b8a3-4d1a-84b6-bd418d301cb6"
      },
      "execution_count": null,
      "outputs": [
        {
          "output_type": "execute_result",
          "data": {
            "text/plain": [
              "idade\n",
              "29     1\n",
              "34     2\n",
              "35     4\n",
              "37     2\n",
              "38     3\n",
              "39     4\n",
              "40     3\n",
              "41    10\n",
              "42     8\n",
              "43     8\n",
              "44    11\n",
              "45     8\n",
              "46     7\n",
              "47     5\n",
              "48     7\n",
              "49     5\n",
              "50     7\n",
              "51    12\n",
              "52    13\n",
              "53     8\n",
              "54    16\n",
              "55     8\n",
              "56    11\n",
              "57    17\n",
              "58    19\n",
              "59    14\n",
              "60    11\n",
              "61     8\n",
              "62    11\n",
              "63     9\n",
              "64    10\n",
              "65     8\n",
              "66     7\n",
              "67     9\n",
              "68     4\n",
              "69     3\n",
              "70     4\n",
              "71     3\n",
              "74     1\n",
              "76     1\n",
              "77     1\n",
              "Name: resultado, dtype: int64"
            ]
          },
          "metadata": {},
          "execution_count": 6
        }
      ]
    },
    {
      "cell_type": "code",
      "source": [
        "# hist da idade por resultado\n",
        "sns.distplot(df2['idade'], bins = [29, 47.5, 55, 61, 77])"
      ],
      "metadata": {
        "colab": {
          "base_uri": "https://localhost:8080/",
          "height": 354
        },
        "id": "PahZBoSxMSnJ",
        "outputId": "4eb978ec-e5dc-4b75-8819-e5f6277984e4"
      },
      "execution_count": null,
      "outputs": [
        {
          "output_type": "stream",
          "name": "stderr",
          "text": [
            "/usr/local/lib/python3.8/dist-packages/seaborn/distributions.py:2619: FutureWarning: `distplot` is a deprecated function and will be removed in a future version. Please adapt your code to use either `displot` (a figure-level function with similar flexibility) or `histplot` (an axes-level function for histograms).\n",
            "  warnings.warn(msg, FutureWarning)\n"
          ]
        },
        {
          "output_type": "execute_result",
          "data": {
            "text/plain": [
              "<matplotlib.axes._subplots.AxesSubplot at 0x7f29ca395340>"
            ]
          },
          "metadata": {},
          "execution_count": 12
        },
        {
          "output_type": "display_data",
          "data": {
            "text/plain": [
              "<Figure size 432x288 with 1 Axes>"
            ],
            "image/png": "[encoded data removed]"
          },
          "metadata": {
            "needs_background": "light"
          }
        }
      ]
    },
    {
      "cell_type": "code",
      "source": [
        "De acordo com o gráfico acima conseguimos notar que o maior numero de idades está concentrado entre 47 e 60 anos."
      ],
      "metadata": {
        "id": "CTSB-6GnPDh_"
      },
      "execution_count": null,
      "outputs": []
    },
    {
      "cell_type": "code",
      "source": [
        "# cria um boxplot da idade\n",
        "plt.boxplot(df2['idade'])\n",
        "plt.title(\"boxplot de idade\", loc=\"center\", fontsize=14)\n",
        "plt.ylabel(\"idade\")\n",
        "plt.figure(figsize =(200, 100))\n"
      ],
      "metadata": {
        "id": "Dywt-pWz0yUp",
        "colab": {
          "base_uri": "https://localhost:8080/",
          "height": 318
        },
        "outputId": "20f6c85d-50a4-4517-b62d-42739005d628"
      },
      "execution_count": null,
      "outputs": [
        {
          "output_type": "execute_result",
          "data": {
            "text/plain": [
              "<Figure size 14400x7200 with 0 Axes>"
            ]
          },
          "metadata": {},
          "execution_count": 6
        },
        {
          "output_type": "display_data",
          "data": {
            "text/plain": [
              "<Figure size 432x288 with 1 Axes>"
            ],
            "image/png": "[encoded data removed]"
          },
          "metadata": {
            "needs_background": "light"
          }
        },
        {
          "output_type": "display_data",
          "data": {
            "text/plain": [
              "<Figure size 14400x7200 with 0 Axes>"
            ]
          },
          "metadata": {}
        }
      ]
    },
    {
      "cell_type": "markdown",
      "source": [
        "Não foi constatado nenhum outlier na variável idade"
      ],
      "metadata": {
        "id": "IH1rEoiG8dLn"
      }
    },
    {
      "cell_type": "code",
      "source": [
        "# cria um boxplot do nivel do colesterol\n",
        "plt.boxplot(df2['colesterol'])\n",
        "plt.title(\"boxplot do colesterol\", loc=\"center\", fontsize=14)\n",
        "plt.ylabel(\"colesterol\")\n",
        "plt.figure(figsize =(200, 100))"
      ],
      "metadata": {
        "id": "mVsok5VOc-MF",
        "colab": {
          "base_uri": "https://localhost:8080/",
          "height": 318
        },
        "outputId": "916e2b3b-a1df-4a30-db96-3bddc702c513"
      },
      "execution_count": null,
      "outputs": [
        {
          "output_type": "execute_result",
          "data": {
            "text/plain": [
              "<Figure size 14400x7200 with 0 Axes>"
            ]
          },
          "metadata": {},
          "execution_count": 7
        },
        {
          "output_type": "display_data",
          "data": {
            "text/plain": [
              "<Figure size 432x288 with 1 Axes>"
            ],
            "image/png": "[encoded data removed]"
          },
          "metadata": {
            "needs_background": "light"
          }
        },
        {
          "output_type": "display_data",
          "data": {
            "text/plain": [
              "<Figure size 14400x7200 with 0 Axes>"
            ]
          },
          "metadata": {}
        }
      ]
    },
    {
      "cell_type": "markdown",
      "source": [
        "De acordo com o boxplot da várivael colesterol, nota-se que há um outlier"
      ],
      "metadata": {
        "id": "LZGGwLSC8j_j"
      }
    },
    {
      "cell_type": "code",
      "source": [
        "# mostra quantos dados da variavel colesterol são outliers de acordo com o boxplot\n",
        "b = (df2['colesterol'] >= 450)\n",
        "qtd_outlier1 = df2[b].shape[0]\n",
        "print('Quantidade de outlier:', qtd_outlier1)"
      ],
      "metadata": {
        "id": "3x4S1K06efeR",
        "colab": {
          "base_uri": "https://localhost:8080/"
        },
        "outputId": "c1c49a6d-37e6-4242-9f9b-2b56bbdc5c73"
      },
      "execution_count": null,
      "outputs": [
        {
          "output_type": "stream",
          "name": "stdout",
          "text": [
            "Quantidade de outlier: 1\n"
          ]
        }
      ]
    },
    {
      "cell_type": "code",
      "source": [
        "# cria um boxplot da pressão arterial em repouso\n",
        "plt.boxplot(df2['pa_repouso'])\n",
        "plt.title(\"boxplot da pressão arterial em repouso\", loc=\"center\", fontsize=14)\n",
        "plt.ylabel(\"pressão arterial\")\n",
        "plt.figure(figsize =(200, 100))"
      ],
      "metadata": {
        "id": "F7OAIwoOfXTB",
        "colab": {
          "base_uri": "https://localhost:8080/",
          "height": 318
        },
        "outputId": "b26d2340-0f64-4e75-fad6-0c473a36d63e"
      },
      "execution_count": null,
      "outputs": [
        {
          "output_type": "execute_result",
          "data": {
            "text/plain": [
              "<Figure size 14400x7200 with 0 Axes>"
            ]
          },
          "metadata": {},
          "execution_count": 10
        },
        {
          "output_type": "display_data",
          "data": {
            "text/plain": [
              "<Figure size 432x288 with 1 Axes>"
            ],
            "image/png": "[encoded data removed]"
          },
          "metadata": {
            "needs_background": "light"
          }
        },
        {
          "output_type": "display_data",
          "data": {
            "text/plain": [
              "<Figure size 14400x7200 with 0 Axes>"
            ]
          },
          "metadata": {}
        }
      ]
    },
    {
      "cell_type": "markdown",
      "source": [
        "De acordo com o boxplot da várivael pa_repouso, nota-se que há outliers"
      ],
      "metadata": {
        "id": "PGWJ9xdL8zNu"
      }
    },
    {
      "cell_type": "code",
      "source": [
        "# cria um boxplot da frequencia maxima cardiaca\n",
        "plt.boxplot(df2['fm_cardiaca'])\n",
        "plt.title(\"boxplot da frequencia maxima cardiaca\", loc=\"center\", fontsize=14)\n",
        "plt.ylabel(\"frequencia\")\n",
        "plt.figure(figsize =(200, 100))"
      ],
      "metadata": {
        "id": "_CmXB15bcrx6",
        "colab": {
          "base_uri": "https://localhost:8080/",
          "height": 318
        },
        "outputId": "15c2c2e4-62e1-43a3-b90b-2677015b25a9"
      },
      "execution_count": null,
      "outputs": [
        {
          "output_type": "execute_result",
          "data": {
            "text/plain": [
              "<Figure size 14400x7200 with 0 Axes>"
            ]
          },
          "metadata": {},
          "execution_count": 11
        },
        {
          "output_type": "display_data",
          "data": {
            "text/plain": [
              "<Figure size 432x288 with 1 Axes>"
            ],
            "image/png": "[encoded data removed]"
          },
          "metadata": {
            "needs_background": "light"
          }
        },
        {
          "output_type": "display_data",
          "data": {
            "text/plain": [
              "<Figure size 14400x7200 with 0 Axes>"
            ]
          },
          "metadata": {}
        }
      ]
    },
    {
      "cell_type": "markdown",
      "source": [
        "De acordo com o boxplot da várivael fm_cardiaca, nota-se que há um outlier negativo"
      ],
      "metadata": {
        "id": "zooje_L5864v"
      }
    },
    {
      "cell_type": "code",
      "source": [
        "# conta o resultado agrupado pela idade\n",
        "qtd_resultado_sexo = df2.groupby('sexo').count()['resultado']\n",
        "qtd_resultado_sexo\n",
        "\n",
        "# plota a quanbtidade de sexo\n",
        "qtd_resultado_sexo.plot(kind = 'pie')"
      ],
      "metadata": {
        "id": "gFSjcSG1k-4F",
        "colab": {
          "base_uri": "https://localhost:8080/",
          "height": 266
        },
        "outputId": "7682bddb-2863-41e2-fe00-fd92e40075dc"
      },
      "execution_count": null,
      "outputs": [
        {
          "output_type": "execute_result",
          "data": {
            "text/plain": [
              "<matplotlib.axes._subplots.AxesSubplot at 0x7fa199d29b20>"
            ]
          },
          "metadata": {},
          "execution_count": 12
        },
        {
          "output_type": "display_data",
          "data": {
            "text/plain": [
              "<Figure size 432x288 with 1 Axes>"
            ],
            "image/png": "[encoded data removed]"
          },
          "metadata": {}
        }
      ]
    },
    {
      "cell_type": "markdown",
      "source": [
        "De acordo com o gráfico acima é possível notar que os homens tiveram mais ataques cardíacos do que as mulheres."
      ],
      "metadata": {
        "id": "JOOEMoPrzbZn"
      }
    },
    {
      "cell_type": "code",
      "source": [
        "# conta o resultado agrupado pela dor no peito\n",
        "qtd_resultado_td_peito = df2.groupby('td_peito').count()['resultado']\n",
        "qtd_resultado_td_peito\n",
        "\n",
        "# plota a quanbtidade de sexo\n",
        "qtd_resultado_td_peito.plot(kind = 'bar')"
      ],
      "metadata": {
        "id": "VD4Zw2Skk_Ht",
        "colab": {
          "base_uri": "https://localhost:8080/",
          "height": 295
        },
        "outputId": "bdd9a8da-a8e0-4989-c663-03063bca10af"
      },
      "execution_count": null,
      "outputs": [
        {
          "output_type": "execute_result",
          "data": {
            "text/plain": [
              "<matplotlib.axes._subplots.AxesSubplot at 0x7fa199c88160>"
            ]
          },
          "metadata": {},
          "execution_count": 13
        },
        {
          "output_type": "display_data",
          "data": {
            "text/plain": [
              "<Figure size 432x288 with 1 Axes>"
            ],
            "image/png": "[encoded data removed]"
          },
          "metadata": {
            "needs_background": "light"
          }
        }
      ]
    },
    {
      "cell_type": "markdown",
      "source": [
        "Após plotar o gráfico de barras da variável td_peito que se refere ao nível de dor no peito, nota-se que a td_peito tipo 0 é a que acontece com mais frequências, sendo um pouco mais de 140 casos.\n",
        "\n"
      ],
      "metadata": {
        "id": "I-VCcEPZzv0q"
      }
    },
    {
      "cell_type": "code",
      "source": [
        "# gráfico de frequência da variavel nv_sanguineo\n",
        "sangue_por_resultado = df2['nv_sanguineo'].value_counts()\n",
        "sangue_por_resultado.plot.bar()"
      ],
      "metadata": {
        "colab": {
          "base_uri": "https://localhost:8080/",
          "height": 280
        },
        "id": "s2BIhSyP2Flx",
        "outputId": "c30fd5be-dc3d-4e09-f94d-d9e5d7368364"
      },
      "execution_count": null,
      "outputs": [
        {
          "output_type": "execute_result",
          "data": {
            "text/plain": [
              "<matplotlib.axes._subplots.AxesSubplot at 0x7fa1975bbb20>"
            ]
          },
          "metadata": {},
          "execution_count": 18
        },
        {
          "output_type": "display_data",
          "data": {
            "text/plain": [
              "<Figure size 432x288 with 1 Axes>"
            ],
            "image/png": "[encoded data removed]"
          },
          "metadata": {
            "needs_background": "light"
          }
        }
      ]
    },
    {
      "cell_type": "markdown",
      "source": [
        "Nota-se que o nv_sanguineo igual a 0 é a categoria que mais tem casos, chegando quase a 175."
      ],
      "metadata": {
        "id": "OLREeXvq57ht"
      }
    },
    {
      "cell_type": "code",
      "source": [
        "# correlação das variaveis do dataset 2 (variaveis originais)\n",
        "df2.corr()"
      ],
      "metadata": {
        "id": "pfDbIKtRk_Yu",
        "colab": {
          "base_uri": "https://localhost:8080/",
          "height": 552
        },
        "outputId": "2396cd0e-0d06-43bf-e4f0-f346a981d597"
      },
      "execution_count": null,
      "outputs": [
        {
          "output_type": "execute_result",
          "data": {
            "text/plain": [
              "                  idade      sexo  td_peito  pa_repouso  colesterol  as_jejum  \\\n",
              "idade          1.000000 -0.098447 -0.068653    0.279351    0.213678  0.121308   \n",
              "sexo          -0.098447  1.000000 -0.049353   -0.056769   -0.197912  0.045032   \n",
              "td_peito      -0.068653 -0.049353  1.000000    0.047608   -0.076904  0.094444   \n",
              "pa_repouso     0.279351 -0.056769  0.047608    1.000000    0.123174  0.177531   \n",
              "colesterol     0.213678 -0.197912 -0.076904    0.123174    1.000000  0.013294   \n",
              "as_jejum       0.121308  0.045032  0.094444    0.177531    0.013294  1.000000   \n",
              "re_repouso    -0.116211 -0.058196  0.044421   -0.114103   -0.151040 -0.084189   \n",
              "fm_cardiaca   -0.398522 -0.044020  0.295762   -0.046698   -0.009940 -0.008567   \n",
              "ai_exercicio   0.096801  0.141664 -0.394280    0.067616    0.067023  0.025665   \n",
              "pico_anterior  0.210013  0.096093 -0.149230    0.193216    0.053952  0.005747   \n",
              "declive       -0.168814 -0.030711  0.119717   -0.121475   -0.004038 -0.059894   \n",
              "nv_sanguineo   0.276326  0.118261 -0.181053    0.101389    0.070511  0.137979   \n",
              "taxa_thall     0.068001  0.210041 -0.161736    0.062210    0.098803 -0.032019   \n",
              "resultado     -0.225439 -0.280937  0.433798   -0.144931   -0.085239 -0.028046   \n",
              "\n",
              "               re_repouso  fm_cardiaca  ai_exercicio  pico_anterior   declive  \\\n",
              "idade           -0.116211    -0.398522      0.096801       0.210013 -0.168814   \n",
              "sexo            -0.058196    -0.044020      0.141664       0.096093 -0.030711   \n",
              "td_peito         0.044421     0.295762     -0.394280      -0.149230  0.119717   \n",
              "pa_repouso      -0.114103    -0.046698      0.067616       0.193216 -0.121475   \n",
              "colesterol      -0.151040    -0.009940      0.067023       0.053952 -0.004038   \n",
              "as_jejum        -0.084189    -0.008567      0.025665       0.005747 -0.059894   \n",
              "re_repouso       1.000000     0.044123     -0.070733      -0.058770  0.093045   \n",
              "fm_cardiaca      0.044123     1.000000     -0.378812      -0.344187  0.386784   \n",
              "ai_exercicio    -0.070733    -0.378812      1.000000       0.288223 -0.257748   \n",
              "pico_anterior   -0.058770    -0.344187      0.288223       1.000000 -0.577537   \n",
              "declive          0.093045     0.386784     -0.257748      -0.577537  1.000000   \n",
              "nv_sanguineo    -0.072042    -0.213177      0.115739       0.222682 -0.080155   \n",
              "taxa_thall      -0.011981    -0.096439      0.206754       0.210244 -0.104764   \n",
              "resultado        0.137230     0.421741     -0.436757      -0.430696  0.345877   \n",
              "\n",
              "               nv_sanguineo  taxa_thall  resultado  \n",
              "idade              0.276326    0.068001  -0.225439  \n",
              "sexo               0.118261    0.210041  -0.280937  \n",
              "td_peito          -0.181053   -0.161736   0.433798  \n",
              "pa_repouso         0.101389    0.062210  -0.144931  \n",
              "colesterol         0.070511    0.098803  -0.085239  \n",
              "as_jejum           0.137979   -0.032019  -0.028046  \n",
              "re_repouso        -0.072042   -0.011981   0.137230  \n",
              "fm_cardiaca       -0.213177   -0.096439   0.421741  \n",
              "ai_exercicio       0.115739    0.206754  -0.436757  \n",
              "pico_anterior      0.222682    0.210244  -0.430696  \n",
              "declive           -0.080155   -0.104764   0.345877  \n",
              "nv_sanguineo       1.000000    0.151832  -0.391724  \n",
              "taxa_thall         0.151832    1.000000  -0.344029  \n",
              "resultado         -0.391724   -0.344029   1.000000  "
            ],
            "text/html": [
              "\n",
              "  <div id=\"df-6cc54a13-1c19-4354-9d09-7b9668a6475d\">\n",
              "    <div class=\"colab-df-container\">\n",
              "      <div>\n",
              "<style scoped>\n",
              "    .dataframe tbody tr th:only-of-type {\n",
              "        vertical-align: middle;\n",
              "    }\n",
              "\n",
              "    .dataframe tbody tr th {\n",
              "        vertical-align: top;\n",
              "    }\n",
              "\n",
              "    .dataframe thead th {\n",
              "        text-align: right;\n",
              "    }\n",
              "</style>\n",
              "<table border=\"1\" class=\"dataframe\">\n",
              "  <thead>\n",
              "    <tr style=\"text-align: right;\">\n",
              "      <th></th>\n",
              "      <th>idade</th>\n",
              "      <th>sexo</th>\n",
              "      <th>td_peito</th>\n",
              "      <th>pa_repouso</th>\n",
              "      <th>colesterol</th>\n",
              "      <th>as_jejum</th>\n",
              "      <th>re_repouso</th>\n",
              "      <th>fm_cardiaca</th>\n",
              "      <th>ai_exercicio</th>\n",
              "      <th>pico_anterior</th>\n",
              "      <th>declive</th>\n",
              "      <th>nv_sanguineo</th>\n",
              "      <th>taxa_thall</th>\n",
              "      <th>resultado</th>\n",
              "    </tr>\n",
              "  </thead>\n",
              "  <tbody>\n",
              "    <tr>\n",
              "      <th>idade</th>\n",
              "      <td>1.000000</td>\n",
              "      <td>-0.098447</td>\n",
              "      <td>-0.068653</td>\n",
              "      <td>0.279351</td>\n",
              "      <td>0.213678</td>\n",
              "      <td>0.121308</td>\n",
              "      <td>-0.116211</td>\n",
              "      <td>-0.398522</td>\n",
              "      <td>0.096801</td>\n",
              "      <td>0.210013</td>\n",
              "      <td>-0.168814</td>\n",
              "      <td>0.276326</td>\n",
              "      <td>0.068001</td>\n",
              "      <td>-0.225439</td>\n",
              "    </tr>\n",
              "    <tr>\n",
              "      <th>sexo</th>\n",
              "      <td>-0.098447</td>\n",
              "      <td>1.000000</td>\n",
              "      <td>-0.049353</td>\n",
              "      <td>-0.056769</td>\n",
              "      <td>-0.197912</td>\n",
              "      <td>0.045032</td>\n",
              "      <td>-0.058196</td>\n",
              "      <td>-0.044020</td>\n",
              "      <td>0.141664</td>\n",
              "      <td>0.096093</td>\n",
              "      <td>-0.030711</td>\n",
              "      <td>0.118261</td>\n",
              "      <td>0.210041</td>\n",
              "      <td>-0.280937</td>\n",
              "    </tr>\n",
              "    <tr>\n",
              "      <th>td_peito</th>\n",
              "      <td>-0.068653</td>\n",
              "      <td>-0.049353</td>\n",
              "      <td>1.000000</td>\n",
              "      <td>0.047608</td>\n",
              "      <td>-0.076904</td>\n",
              "      <td>0.094444</td>\n",
              "      <td>0.044421</td>\n",
              "      <td>0.295762</td>\n",
              "      <td>-0.394280</td>\n",
              "      <td>-0.149230</td>\n",
              "      <td>0.119717</td>\n",
              "      <td>-0.181053</td>\n",
              "      <td>-0.161736</td>\n",
              "      <td>0.433798</td>\n",
              "    </tr>\n",
              "    <tr>\n",
              "      <th>pa_repouso</th>\n",
              "      <td>0.279351</td>\n",
              "      <td>-0.056769</td>\n",
              "      <td>0.047608</td>\n",
              "      <td>1.000000</td>\n",
              "      <td>0.123174</td>\n",
              "      <td>0.177531</td>\n",
              "      <td>-0.114103</td>\n",
              "      <td>-0.046698</td>\n",
              "      <td>0.067616</td>\n",
              "      <td>0.193216</td>\n",
              "      <td>-0.121475</td>\n",
              "      <td>0.101389</td>\n",
              "      <td>0.062210</td>\n",
              "      <td>-0.144931</td>\n",
              "    </tr>\n",
              "    <tr>\n",
              "      <th>colesterol</th>\n",
              "      <td>0.213678</td>\n",
              "      <td>-0.197912</td>\n",
              "      <td>-0.076904</td>\n",
              "      <td>0.123174</td>\n",
              "      <td>1.000000</td>\n",
              "      <td>0.013294</td>\n",
              "      <td>-0.151040</td>\n",
              "      <td>-0.009940</td>\n",
              "      <td>0.067023</td>\n",
              "      <td>0.053952</td>\n",
              "      <td>-0.004038</td>\n",
              "      <td>0.070511</td>\n",
              "      <td>0.098803</td>\n",
              "      <td>-0.085239</td>\n",
              "    </tr>\n",
              "    <tr>\n",
              "      <th>as_jejum</th>\n",
              "      <td>0.121308</td>\n",
              "      <td>0.045032</td>\n",
              "      <td>0.094444</td>\n",
              "      <td>0.177531</td>\n",
              "      <td>0.013294</td>\n",
              "      <td>1.000000</td>\n",
              "      <td>-0.084189</td>\n",
              "      <td>-0.008567</td>\n",
              "      <td>0.025665</td>\n",
              "      <td>0.005747</td>\n",
              "      <td>-0.059894</td>\n",
              "      <td>0.137979</td>\n",
              "      <td>-0.032019</td>\n",
              "      <td>-0.028046</td>\n",
              "    </tr>\n",
              "    <tr>\n",
              "      <th>re_repouso</th>\n",
              "      <td>-0.116211</td>\n",
              "      <td>-0.058196</td>\n",
              "      <td>0.044421</td>\n",
              "      <td>-0.114103</td>\n",
              "      <td>-0.151040</td>\n",
              "      <td>-0.084189</td>\n",
              "      <td>1.000000</td>\n",
              "      <td>0.044123</td>\n",
              "      <td>-0.070733</td>\n",
              "      <td>-0.058770</td>\n",
              "      <td>0.093045</td>\n",
              "      <td>-0.072042</td>\n",
              "      <td>-0.011981</td>\n",
              "      <td>0.137230</td>\n",
              "    </tr>\n",
              "    <tr>\n",
              "      <th>fm_cardiaca</th>\n",
              "      <td>-0.398522</td>\n",
              "      <td>-0.044020</td>\n",
              "      <td>0.295762</td>\n",
              "      <td>-0.046698</td>\n",
              "      <td>-0.009940</td>\n",
              "      <td>-0.008567</td>\n",
              "      <td>0.044123</td>\n",
              "      <td>1.000000</td>\n",
              "      <td>-0.378812</td>\n",
              "      <td>-0.344187</td>\n",
              "      <td>0.386784</td>\n",
              "      <td>-0.213177</td>\n",
              "      <td>-0.096439</td>\n",
              "      <td>0.421741</td>\n",
              "    </tr>\n",
              "    <tr>\n",
              "      <th>ai_exercicio</th>\n",
              "      <td>0.096801</td>\n",
              "      <td>0.141664</td>\n",
              "      <td>-0.394280</td>\n",
              "      <td>0.067616</td>\n",
              "      <td>0.067023</td>\n",
              "      <td>0.025665</td>\n",
              "      <td>-0.070733</td>\n",
              "      <td>-0.378812</td>\n",
              "      <td>1.000000</td>\n",
              "      <td>0.288223</td>\n",
              "      <td>-0.257748</td>\n",
              "      <td>0.115739</td>\n",
              "      <td>0.206754</td>\n",
              "      <td>-0.436757</td>\n",
              "    </tr>\n",
              "    <tr>\n",
              "      <th>pico_anterior</th>\n",
              "      <td>0.210013</td>\n",
              "      <td>0.096093</td>\n",
              "      <td>-0.149230</td>\n",
              "      <td>0.193216</td>\n",
              "      <td>0.053952</td>\n",
              "      <td>0.005747</td>\n",
              "      <td>-0.058770</td>\n",
              "      <td>-0.344187</td>\n",
              "      <td>0.288223</td>\n",
              "      <td>1.000000</td>\n",
              "      <td>-0.577537</td>\n",
              "      <td>0.222682</td>\n",
              "      <td>0.210244</td>\n",
              "      <td>-0.430696</td>\n",
              "    </tr>\n",
              "    <tr>\n",
              "      <th>declive</th>\n",
              "      <td>-0.168814</td>\n",
              "      <td>-0.030711</td>\n",
              "      <td>0.119717</td>\n",
              "      <td>-0.121475</td>\n",
              "      <td>-0.004038</td>\n",
              "      <td>-0.059894</td>\n",
              "      <td>0.093045</td>\n",
              "      <td>0.386784</td>\n",
              "      <td>-0.257748</td>\n",
              "      <td>-0.577537</td>\n",
              "      <td>1.000000</td>\n",
              "      <td>-0.080155</td>\n",
              "      <td>-0.104764</td>\n",
              "      <td>0.345877</td>\n",
              "    </tr>\n",
              "    <tr>\n",
              "      <th>nv_sanguineo</th>\n",
              "      <td>0.276326</td>\n",
              "      <td>0.118261</td>\n",
              "      <td>-0.181053</td>\n",
              "      <td>0.101389</td>\n",
              "      <td>0.070511</td>\n",
              "      <td>0.137979</td>\n",
              "      <td>-0.072042</td>\n",
              "      <td>-0.213177</td>\n",
              "      <td>0.115739</td>\n",
              "      <td>0.222682</td>\n",
              "      <td>-0.080155</td>\n",
              "      <td>1.000000</td>\n",
              "      <td>0.151832</td>\n",
              "      <td>-0.391724</td>\n",
              "    </tr>\n",
              "    <tr>\n",
              "      <th>taxa_thall</th>\n",
              "      <td>0.068001</td>\n",
              "      <td>0.210041</td>\n",
              "      <td>-0.161736</td>\n",
              "      <td>0.062210</td>\n",
              "      <td>0.098803</td>\n",
              "      <td>-0.032019</td>\n",
              "      <td>-0.011981</td>\n",
              "      <td>-0.096439</td>\n",
              "      <td>0.206754</td>\n",
              "      <td>0.210244</td>\n",
              "      <td>-0.104764</td>\n",
              "      <td>0.151832</td>\n",
              "      <td>1.000000</td>\n",
              "      <td>-0.344029</td>\n",
              "    </tr>\n",
              "    <tr>\n",
              "      <th>resultado</th>\n",
              "      <td>-0.225439</td>\n",
              "      <td>-0.280937</td>\n",
              "      <td>0.433798</td>\n",
              "      <td>-0.144931</td>\n",
              "      <td>-0.085239</td>\n",
              "      <td>-0.028046</td>\n",
              "      <td>0.137230</td>\n",
              "      <td>0.421741</td>\n",
              "      <td>-0.436757</td>\n",
              "      <td>-0.430696</td>\n",
              "      <td>0.345877</td>\n",
              "      <td>-0.391724</td>\n",
              "      <td>-0.344029</td>\n",
              "      <td>1.000000</td>\n",
              "    </tr>\n",
              "  </tbody>\n",
              "</table>\n",
              "</div>\n",
              "      <button class=\"colab-df-convert\" onclick=\"convertToInteractive('df-6cc54a13-1c19-4354-9d09-7b9668a6475d')\"\n",
              "              title=\"Convert this dataframe to an interactive table.\"\n",
              "              style=\"display:none;\">\n",
              "        \n",
              "  <svg xmlns=\"http://www.w3.org/2000/svg\" height=\"24px\"viewBox=\"0 0 24 24\"\n",
              "       width=\"24px\">\n",
              "    <path d=\"M0 0h24v24H0V0z\" fill=\"none\"/>\n",
              "    <path d=\"M18.56 5.44l.94 2.06.94-2.06 2.06-.94-2.06-.94-.94-2.06-.94 2.06-2.06.94zm-11 1L8.5 8.5l.94-2.06 2.06-.94-2.06-.94L8.5 2.5l-.94 2.06-2.06.94zm10 10l.94 2.06.94-2.06 2.06-.94-2.06-.94-.94-2.06-.94 2.06-2.06.94z\"/><path d=\"M17.41 7.96l-1.37-1.37c-.4-.4-.92-.59-1.43-.59-.52 0-1.04.2-1.43.59L10.3 9.45l-7.72 7.72c-.78.78-.78 2.05 0 2.83L4 21.41c.39.39.9.59 1.41.59.51 0 1.02-.2 1.41-.59l7.78-7.78 2.81-2.81c.8-.78.8-2.07 0-2.86zM5.41 20L4 18.59l7.72-7.72 1.47 1.35L5.41 20z\"/>\n",
              "  </svg>\n",
              "      </button>\n",
              "      \n",
              "  <style>\n",
              "    .colab-df-container {\n",
              "      display:flex;\n",
              "      flex-wrap:wrap;\n",
              "      gap: 12px;\n",
              "    }\n",
              "\n",
              "    .colab-df-convert {\n",
              "      background-color: #E8F0FE;\n",
              "      border: none;\n",
              "      border-radius: 50%;\n",
              "      cursor: pointer;\n",
              "      display: none;\n",
              "      fill: #1967D2;\n",
              "      height: 32px;\n",
              "      padding: 0 0 0 0;\n",
              "      width: 32px;\n",
              "    }\n",
              "\n",
              "    .colab-df-convert:hover {\n",
              "      background-color: #E2EBFA;\n",
              "      box-shadow: 0px 1px 2px rgba(60, 64, 67, 0.3), 0px 1px 3px 1px rgba(60, 64, 67, 0.15);\n",
              "      fill: #174EA6;\n",
              "    }\n",
              "\n",
              "    [theme=dark] .colab-df-convert {\n",
              "      background-color: #3B4455;\n",
              "      fill: #D2E3FC;\n",
              "    }\n",
              "\n",
              "    [theme=dark] .colab-df-convert:hover {\n",
              "      background-color: #434B5C;\n",
              "      box-shadow: 0px 1px 3px 1px rgba(0, 0, 0, 0.15);\n",
              "      filter: drop-shadow(0px 1px 2px rgba(0, 0, 0, 0.3));\n",
              "      fill: #FFFFFF;\n",
              "    }\n",
              "  </style>\n",
              "\n",
              "      <script>\n",
              "        const buttonEl =\n",
              "          document.querySelector('#df-6cc54a13-1c19-4354-9d09-7b9668a6475d button.colab-df-convert');\n",
              "        buttonEl.style.display =\n",
              "          google.colab.kernel.accessAllowed ? 'block' : 'none';\n",
              "\n",
              "        async function convertToInteractive(key) {\n",
              "          const element = document.querySelector('#df-6cc54a13-1c19-4354-9d09-7b9668a6475d');\n",
              "          const dataTable =\n",
              "            await google.colab.kernel.invokeFunction('convertToInteractive',\n",
              "                                                     [key], {});\n",
              "          if (!dataTable) return;\n",
              "\n",
              "          const docLinkHtml = 'Like what you see? Visit the ' +\n",
              "            '<a target=\"_blank\" href=https://colab.research.google.com/notebooks/data_table.ipynb>data table notebook</a>'\n",
              "            + ' to learn more about interactive tables.';\n",
              "          element.innerHTML = '';\n",
              "          dataTable['output_type'] = 'display_data';\n",
              "          await google.colab.output.renderOutput(dataTable, element);\n",
              "          const docLink = document.createElement('div');\n",
              "          docLink.innerHTML = docLinkHtml;\n",
              "          element.appendChild(docLink);\n",
              "        }\n",
              "      </script>\n",
              "    </div>\n",
              "  </div>\n",
              "  "
            ]
          },
          "metadata": {},
          "execution_count": 14
        }
      ]
    },
    {
      "cell_type": "markdown",
      "source": [
        "Acima, temos a tabela de correlação de pearson, a onde nos mostra a relaçao entre as váriaveis.\n",
        "\n",
        "O interessante para o nosso modelo são as variáveis X que mais se correlacionam com a variável Y (resultado).\n",
        "\n",
        "Em primeiro lugar, temos a variável td_peito com 43% de relação\n",
        "\n",
        "Em segundo lugar, temos a variável fm_cardiaca com 42% de relação\n",
        "\n",
        "Em terceiro lugar, temos a variável re_repouso com 13% de relação\n",
        "\n",
        "As demais variáveis possuem relação negativa."
      ],
      "metadata": {
        "id": "Dz8l11FU0jTD"
      }
    },
    {
      "cell_type": "markdown",
      "source": [
        "--------------------------------------------------------------------------------"
      ],
      "metadata": {
        "id": "NLk5qv3UZ4tZ"
      }
    },
    {
      "cell_type": "markdown",
      "source": [
        "# EXERCICIO 2\n",
        "\n",
        "Monte um algoritmo preditivo de projeção OU de classificação, utilizando respetivamente Regressão Linear ou Regressão Logística. Para tal, selecione uma base de dados adequada no https://www.kaggle.com/datasets. Antes de realizar o treino do seu algoritmo realize uma análise exploratória, principalmente correlacionando as features e o label. Identificados estes, siga o processo de treinar, validar, testar e revalidar. Não esqueça de apresentar sua conclusões de negócio (utilize o botão +texto) \n"
      ],
      "metadata": {
        "id": "zmAHY7cA9mu9"
      }
    },
    {
      "cell_type": "markdown",
      "source": [
        "# MODELO DE REGRESSÃO LOGISTICA"
      ],
      "metadata": {
        "id": "lQHfoo9w7Spa"
      }
    },
    {
      "cell_type": "code",
      "source": [
        "# divide o dataset para treino e teste\n",
        "x_treino, x_teste, y_treino, y_teste = train_test_split(df2[['idade', 'sexo', 'td_peito', 'pa_repouso', 'colesterol', 'as_jejum', 'fm_cardiaca', 're_repouso', \n",
        "                                                             'declive', 'taxa_thall', 'nv_sanguineo', 'pico_anterior', 'ai_exercicio']], df2['resultado'], test_size = 0.2)"
      ],
      "metadata": {
        "id": "gfnPtEv16r3J"
      },
      "execution_count": null,
      "outputs": []
    },
    {
      "cell_type": "code",
      "source": [
        "x_treino"
      ],
      "metadata": {
        "id": "DDjwmrx2-Jj7"
      },
      "execution_count": null,
      "outputs": []
    },
    {
      "cell_type": "code",
      "source": [
        "y_treino"
      ],
      "metadata": {
        "id": "OIwEYfxfBipM"
      },
      "execution_count": null,
      "outputs": []
    },
    {
      "cell_type": "code",
      "source": [
        "# regressão logistica \n",
        "reglog = LogisticRegression(max_iter = 800)"
      ],
      "metadata": {
        "id": "WheEyMhf1RFN"
      },
      "execution_count": null,
      "outputs": []
    },
    {
      "cell_type": "code",
      "source": [
        "random.seed(123)"
      ],
      "metadata": {
        "id": "7HfCk7kBBs-R"
      },
      "execution_count": null,
      "outputs": []
    },
    {
      "cell_type": "code",
      "source": [
        "# TREINO\n",
        "# treinando o modelo na base de treino\n",
        "reglog.fit(x_treino, y_treino)\n",
        "\n",
        "# acuracia do modelo\n",
        "acuracia = reglog.score(x_treino, y_treino)\n",
        "print('Acurácia do modelo: ', acuracia * 100)"
      ],
      "metadata": {
        "colab": {
          "base_uri": "https://localhost:8080/"
        },
        "id": "NPg36Azn6Yah",
        "outputId": "e264bbee-02e2-4de9-9b77-df2d6867211f"
      },
      "execution_count": null,
      "outputs": [
        {
          "output_type": "stream",
          "name": "stdout",
          "text": [
            "Acurácia do modelo:  85.9504132231405\n"
          ]
        }
      ]
    },
    {
      "cell_type": "code",
      "source": [
        "# TESTE\n",
        "# treinando o modelo na base de teste\n",
        "reglog.fit(x_teste, y_teste)\n",
        "\n",
        "# acuracia do modelo\n",
        "acuracia2 = reglog.score(x_teste, y_teste)\n",
        "print('Acurácia do modelo: ', acuracia2 * 100)"
      ],
      "metadata": {
        "colab": {
          "base_uri": "https://localhost:8080/"
        },
        "outputId": "299f9db0-ac94-47af-f5a1-9cf3255aae88",
        "id": "6Cb8Qj12_TBM"
      },
      "execution_count": null,
      "outputs": [
        {
          "output_type": "stream",
          "name": "stdout",
          "text": [
            "Acurácia do modelo:  93.44262295081968\n"
          ]
        }
      ]
    },
    {
      "cell_type": "markdown",
      "source": [
        "## Conclusão do modelo\n",
        "\n",
        "- Pela variável Y (resultado) ser binária, foi usado o algoritmo de regressão logistica.\n",
        "\n",
        "- Foi utilizado todas as variáveis no modelo, pois mesmo algumas não possuindo uma correlação positiva com a nossa variável Y (resultado) de acordo com a correlação de Pearson, este foi o modelo que mais performou.\n",
        "\n",
        "- Em treino obteve-se uma acurácia de 85% e em teste uma acurácia de 93%.\n",
        "\n",
        "- Sendo assim, mesmo com uma acurácia de 93% em teste, não colocariamos este modelo em produção, pois se trata de um modelo de análise e predição de ataques cardíacos, e poderiamos colocar a vida dos pacientes em risco. \n",
        "\n",
        "![c.png](data:image/png;base64,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)"
      ],
      "metadata": {
        "id": "PETHL70n6jlZ"
      }
    },
    {
      "cell_type": "markdown",
      "source": [
        "# EXERCICIO 3\n",
        "Utilizando uma base de dados do Kaggle, realize uma Classificação com a Reg Logística ou Árvore de Decisão (caso na atividade anterior tenha já utilizado RegLog, utilize nesta Árvore). Não esqueça de separar treino e teste, bem como de calcular as devidas métricas. Em seguida, realize um processo de AutoML com H2O, e aí as métricas melhoraram?"
      ],
      "metadata": {
        "id": "4U2J5Fb1U9Js"
      }
    },
    {
      "cell_type": "markdown",
      "source": [
        "# ARVORE DE DECISÃO COM SKLEARN"
      ],
      "metadata": {
        "id": "HBevBQpBANtA"
      }
    },
    {
      "cell_type": "code",
      "source": [
        "# divide o dataset para treino e teste\n",
        "x_treino, x_teste, y_treino, y_teste = train_test_split(df2[['idade', 'sexo', 'td_peito', 'pa_repouso', 'colesterol', 'as_jejum', 'fm_cardiaca', 're_repouso', \n",
        "                                                             'declive', 'taxa_thall', 'nv_sanguineo', 'pico_anterior', 'ai_exercicio']], df2['resultado'], test_size = 0.4)"
      ],
      "metadata": {
        "id": "eovMFt1wDEW4"
      },
      "execution_count": null,
      "outputs": []
    },
    {
      "cell_type": "code",
      "source": [
        "# atribui a funcao arvore de decisao a variavel tree \n",
        "tree = DecisionTreeClassifier(max_depth=6)"
      ],
      "metadata": {
        "id": "5a4fECEMEx6j"
      },
      "execution_count": null,
      "outputs": []
    },
    {
      "cell_type": "code",
      "source": [
        "random.seed(123)"
      ],
      "metadata": {
        "id": "B5bPC1Vq-xwm"
      },
      "execution_count": null,
      "outputs": []
    },
    {
      "cell_type": "markdown",
      "source": [
        "TREINO"
      ],
      "metadata": {
        "id": "uwZw0HGqDUCI"
      }
    },
    {
      "cell_type": "code",
      "source": [
        "# modelo de treino\n",
        "arvore_treino = tree.fit(x_treino, y_treino)"
      ],
      "metadata": {
        "id": "Y9EsZZr0FDwD"
      },
      "execution_count": null,
      "outputs": []
    },
    {
      "cell_type": "code",
      "source": [
        "# acuracia do modelo de treino\n",
        "modelo_treino = round(tree.score(x_treino, y_treino), 4)\n",
        "modelo_treino * 100"
      ],
      "metadata": {
        "colab": {
          "base_uri": "https://localhost:8080/"
        },
        "id": "xDqka_f_GG0h",
        "outputId": "a4883489-0084-4e65-bf3d-c1d644e6cdeb"
      },
      "execution_count": null,
      "outputs": [
        {
          "output_type": "execute_result",
          "data": {
            "text/plain": [
              "97.78999999999999"
            ]
          },
          "metadata": {},
          "execution_count": 31
        }
      ]
    },
    {
      "cell_type": "code",
      "source": [
        "# matriz de confusão de treino\n",
        "plot_confusion_matrix(arvore_treino, x_treino, y_treino, cmap = plt.cm.Blues )"
      ],
      "metadata": {
        "colab": {
          "base_uri": "https://localhost:8080/",
          "height": 351
        },
        "id": "Gq3jX9uXGAZ2",
        "outputId": "822a4a4c-a859-4b20-d516-097f33ede648"
      },
      "execution_count": null,
      "outputs": [
        {
          "output_type": "stream",
          "name": "stderr",
          "text": [
            "/usr/local/lib/python3.8/dist-packages/sklearn/utils/deprecation.py:87: FutureWarning: Function plot_confusion_matrix is deprecated; Function `plot_confusion_matrix` is deprecated in 1.0 and will be removed in 1.2. Use one of the class methods: ConfusionMatrixDisplay.from_predictions or ConfusionMatrixDisplay.from_estimator.\n",
            "  warnings.warn(msg, category=FutureWarning)\n"
          ]
        },
        {
          "output_type": "execute_result",
          "data": {
            "text/plain": [
              "<sklearn.metrics._plot.confusion_matrix.ConfusionMatrixDisplay at 0x7f44572240a0>"
            ]
          },
          "metadata": {},
          "execution_count": 32
        },
        {
          "output_type": "display_data",
          "data": {
            "text/plain": [
              "<Figure size 432x288 with 2 Axes>"
            ],
            "image/png": "[encoded data removed]"
          },
          "metadata": {
            "needs_background": "light"
          }
        }
      ]
    },
    {
      "cell_type": "markdown",
      "source": [
        "TESTE"
      ],
      "metadata": {
        "id": "TIJwQyg_DRyh"
      }
    },
    {
      "cell_type": "code",
      "source": [
        "# modelo de teste\n",
        "arvore_teste = tree.fit(x_teste, y_teste)"
      ],
      "metadata": {
        "id": "ZJzzs7-PDPfq"
      },
      "execution_count": null,
      "outputs": []
    },
    {
      "cell_type": "code",
      "source": [
        "# acuracia do modelo de teste \n",
        "modelo_teste = round(tree.score(x_teste, y_teste), 4)\n",
        "modelo_teste * 100"
      ],
      "metadata": {
        "colab": {
          "base_uri": "https://localhost:8080/"
        },
        "outputId": "76d30d46-97dd-460e-8df9-e78acd68c07b",
        "id": "y6a7A9CQDKgM"
      },
      "execution_count": null,
      "outputs": [
        {
          "output_type": "execute_result",
          "data": {
            "text/plain": [
              "98.36"
            ]
          },
          "metadata": {},
          "execution_count": 34
        }
      ]
    },
    {
      "cell_type": "code",
      "source": [
        "# matriz de confusão de teste\n",
        "plot_confusion_matrix(arvore_teste, x_teste, y_teste, cmap = plt.cm.Reds )"
      ],
      "metadata": {
        "colab": {
          "base_uri": "https://localhost:8080/",
          "height": 351
        },
        "outputId": "733739fe-ab05-4543-8dee-35a0025833e2",
        "id": "t4_oPWFwGxwt"
      },
      "execution_count": null,
      "outputs": [
        {
          "output_type": "stream",
          "name": "stderr",
          "text": [
            "/usr/local/lib/python3.8/dist-packages/sklearn/utils/deprecation.py:87: FutureWarning: Function plot_confusion_matrix is deprecated; Function `plot_confusion_matrix` is deprecated in 1.0 and will be removed in 1.2. Use one of the class methods: ConfusionMatrixDisplay.from_predictions or ConfusionMatrixDisplay.from_estimator.\n",
            "  warnings.warn(msg, category=FutureWarning)\n"
          ]
        },
        {
          "output_type": "execute_result",
          "data": {
            "text/plain": [
              "<sklearn.metrics._plot.confusion_matrix.ConfusionMatrixDisplay at 0x7f4458304be0>"
            ]
          },
          "metadata": {},
          "execution_count": 35
        },
        {
          "output_type": "display_data",
          "data": {
            "text/plain": [
              "<Figure size 432x288 with 2 Axes>"
            ],
            "image/png": "[encoded data removed]"
          },
          "metadata": {
            "needs_background": "light"
          }
        }
      ]
    },
    {
      "cell_type": "code",
      "source": [
        "# monta a arvore\n",
        "dot_data = export_graphviz(arvore_teste, filled = True, feature_names = ['idade', 'sexo', 'td_peito', 'pa_repouso', 'colesterol', 'as_jejum', 'fm_cardiaca', 're_repouso', \n",
        "                                                             'declive', 'taxa_thall', 'nv_sanguineo', 'pico_anterior', 'ai_exercicio'], class_names = ['mais_chance','menos_chance'])\n",
        "Source(dot_data)"
      ],
      "metadata": {
        "id": "9mJfgO3YIFxH",
        "colab": {
          "base_uri": "https://localhost:8080/",
          "height": 1000
        },
        "outputId": "7db5e229-2fe2-4df3-f800-0967369b7009"
      },
      "execution_count": null,
      "outputs": [
        {
          "output_type": "execute_result",
          "data": {
            "text/plain": [
              "<graphviz.files.Source at 0x7f44570e5fa0>"
            ],
            "image/svg+xml": "<?xml version=\"1.0\" encoding=\"UTF-8\" standalone=\"no\"?>\n<!DOCTYPE svg PUBLIC \"-//W3C//DTD SVG 1.1//EN\"\n \"http://www.w3.org/Graphics/SVG/1.1/DTD/svg11.dtd\">\n<!-- Generated by graphviz version 2.43.0 (0)\n -->\n<!-- Title: Tree Pages: 1 -->\n<svg width=\"1680pt\" height=\"790pt\"\n viewBox=\"0.00 0.00 1680.00 790.00\" xmlns=\"http://www.w3.org/2000/svg\" xmlns:xlink=\"http://www.w3.org/1999/xlink\">\n<g id=\"graph0\" class=\"graph\" transform=\"scale(1 1) rotate(0) translate(4 786)\">\n<title>Tree</title>\n<polygon fill=\"white\" stroke=\"transparent\" points=\"-4,4 -4,-786 1676,-786 1676,4 -4,4\"/>\n<!-- 0 -->\n<g id=\"node1\" class=\"node\">\n<title>0</title>\n<polygon fill=\"#b5daf5\" stroke=\"black\" points=\"921,-782 766,-782 766,-699 921,-699 921,-782\"/>\n<text text-anchor=\"middle\" x=\"843.5\" y=\"-766.8\" font-family=\"Helvetica,sans-Serif\" font-size=\"14.00\">nv_sanguineo &lt;= 0.5</text>\n<text text-anchor=\"middle\" x=\"843.5\" y=\"-751.8\" font-family=\"Helvetica,sans-Serif\" font-size=\"14.00\">gini = 0.474</text>\n<text text-anchor=\"middle\" x=\"843.5\" y=\"-736.8\" font-family=\"Helvetica,sans-Serif\" font-size=\"14.00\">samples = 122</text>\n<text text-anchor=\"middle\" x=\"843.5\" y=\"-721.8\" font-family=\"Helvetica,sans-Serif\" font-size=\"14.00\">value = [47, 75]</text>\n<text text-anchor=\"middle\" x=\"843.5\" y=\"-706.8\" font-family=\"Helvetica,sans-Serif\" font-size=\"14.00\">class = menos_chance</text>\n</g>\n<!-- 1 -->\n<g id=\"node2\" class=\"node\">\n<title>1</title>\n<polygon fill=\"#67b4eb\" stroke=\"black\" points=\"832,-663 677,-663 677,-580 832,-580 832,-663\"/>\n<text text-anchor=\"middle\" x=\"754.5\" y=\"-647.8\" font-family=\"Helvetica,sans-Serif\" font-size=\"14.00\">fm_cardiaca &lt;= 114.5</text>\n<text text-anchor=\"middle\" x=\"754.5\" y=\"-632.8\" font-family=\"Helvetica,sans-Serif\" font-size=\"14.00\">gini = 0.307</text>\n<text text-anchor=\"middle\" x=\"754.5\" y=\"-617.8\" font-family=\"Helvetica,sans-Serif\" font-size=\"14.00\">samples = 74</text>\n<text text-anchor=\"middle\" x=\"754.5\" y=\"-602.8\" font-family=\"Helvetica,sans-Serif\" font-size=\"14.00\">value = [14, 60]</text>\n<text text-anchor=\"middle\" x=\"754.5\" y=\"-587.8\" font-family=\"Helvetica,sans-Serif\" font-size=\"14.00\">class = menos_chance</text>\n</g>\n<!-- 0&#45;&gt;1 -->\n<g id=\"edge1\" class=\"edge\">\n<title>0&#45;&gt;1</title>\n<path fill=\"none\" stroke=\"black\" d=\"M812.62,-698.91C805.79,-689.92 798.48,-680.32 791.43,-671.05\"/>\n<polygon fill=\"black\" stroke=\"black\" points=\"794.16,-668.86 785.32,-663.02 788.59,-673.1 794.16,-668.86\"/>\n<text text-anchor=\"middle\" x=\"781.96\" y=\"-684.09\" font-family=\"Helvetica,sans-Serif\" font-size=\"14.00\">True</text>\n</g>\n<!-- 22 -->\n<g id=\"node23\" class=\"node\">\n<title>22</title>\n<polygon fill=\"#f1ba93\" stroke=\"black\" points=\"1160,-663 1017,-663 1017,-580 1160,-580 1160,-663\"/>\n<text text-anchor=\"middle\" x=\"1088.5\" y=\"-647.8\" font-family=\"Helvetica,sans-Serif\" font-size=\"14.00\">td_peito &lt;= 1.5</text>\n<text text-anchor=\"middle\" x=\"1088.5\" y=\"-632.8\" font-family=\"Helvetica,sans-Serif\" font-size=\"14.00\">gini = 0.43</text>\n<text text-anchor=\"middle\" x=\"1088.5\" y=\"-617.8\" font-family=\"Helvetica,sans-Serif\" font-size=\"14.00\">samples = 48</text>\n<text text-anchor=\"middle\" x=\"1088.5\" y=\"-602.8\" font-family=\"Helvetica,sans-Serif\" font-size=\"14.00\">value = [33, 15]</text>\n<text text-anchor=\"middle\" x=\"1088.5\" y=\"-587.8\" font-family=\"Helvetica,sans-Serif\" font-size=\"14.00\">class = mais_chance</text>\n</g>\n<!-- 0&#45;&gt;22 -->\n<g id=\"edge22\" class=\"edge\">\n<title>0&#45;&gt;22</title>\n<path fill=\"none\" stroke=\"black\" d=\"M921.02,-702.48C948.6,-689.31 979.72,-674.45 1007.58,-661.14\"/>\n<polygon fill=\"black\" stroke=\"black\" points=\"1009.38,-664.16 1016.89,-656.7 1006.36,-657.85 1009.38,-664.16\"/>\n<text text-anchor=\"middle\" x=\"1008.56\" y=\"-676.57\" font-family=\"Helvetica,sans-Serif\" font-size=\"14.00\">False</text>\n</g>\n<!-- 2 -->\n<g id=\"node3\" class=\"node\">\n<title>2</title>\n<polygon fill=\"#e58139\" stroke=\"black\" points=\"659,-536.5 516,-536.5 516,-468.5 659,-468.5 659,-536.5\"/>\n<text text-anchor=\"middle\" x=\"587.5\" y=\"-521.3\" font-family=\"Helvetica,sans-Serif\" font-size=\"14.00\">gini = 0.0</text>\n<text text-anchor=\"middle\" x=\"587.5\" y=\"-506.3\" font-family=\"Helvetica,sans-Serif\" font-size=\"14.00\">samples = 3</text>\n<text text-anchor=\"middle\" x=\"587.5\" y=\"-491.3\" font-family=\"Helvetica,sans-Serif\" font-size=\"14.00\">value = [3, 0]</text>\n<text text-anchor=\"middle\" x=\"587.5\" y=\"-476.3\" font-family=\"Helvetica,sans-Serif\" font-size=\"14.00\">class = mais_chance</text>\n</g>\n<!-- 1&#45;&gt;2 -->\n<g id=\"edge2\" class=\"edge\">\n<title>1&#45;&gt;2</title>\n<path fill=\"none\" stroke=\"black\" d=\"M696.56,-579.91C679.24,-567.77 660.29,-554.49 643.11,-542.46\"/>\n<polygon fill=\"black\" stroke=\"black\" points=\"645.04,-539.54 634.84,-536.67 641.02,-545.27 645.04,-539.54\"/>\n</g>\n<!-- 3 -->\n<g id=\"node4\" class=\"node\">\n<title>3</title>\n<polygon fill=\"#5dafea\" stroke=\"black\" points=\"832,-544 677,-544 677,-461 832,-461 832,-544\"/>\n<text text-anchor=\"middle\" x=\"754.5\" y=\"-528.8\" font-family=\"Helvetica,sans-Serif\" font-size=\"14.00\">ai_exercicio &lt;= 0.5</text>\n<text text-anchor=\"middle\" x=\"754.5\" y=\"-513.8\" font-family=\"Helvetica,sans-Serif\" font-size=\"14.00\">gini = 0.262</text>\n<text text-anchor=\"middle\" x=\"754.5\" y=\"-498.8\" font-family=\"Helvetica,sans-Serif\" font-size=\"14.00\">samples = 71</text>\n<text text-anchor=\"middle\" x=\"754.5\" y=\"-483.8\" font-family=\"Helvetica,sans-Serif\" font-size=\"14.00\">value = [11, 60]</text>\n<text text-anchor=\"middle\" x=\"754.5\" y=\"-468.8\" font-family=\"Helvetica,sans-Serif\" font-size=\"14.00\">class = menos_chance</text>\n</g>\n<!-- 1&#45;&gt;3 -->\n<g id=\"edge3\" class=\"edge\">\n<title>1&#45;&gt;3</title>\n<path fill=\"none\" stroke=\"black\" d=\"M754.5,-579.91C754.5,-571.65 754.5,-562.86 754.5,-554.3\"/>\n<polygon fill=\"black\" stroke=\"black\" points=\"758,-554.02 754.5,-544.02 751,-554.02 758,-554.02\"/>\n</g>\n<!-- 4 -->\n<g id=\"node5\" class=\"node\">\n<title>4</title>\n<polygon fill=\"#4ca6e8\" stroke=\"black\" points=\"572,-425 417,-425 417,-342 572,-342 572,-425\"/>\n<text text-anchor=\"middle\" x=\"494.5\" y=\"-409.8\" font-family=\"Helvetica,sans-Serif\" font-size=\"14.00\">taxa_thall &lt;= 2.5</text>\n<text text-anchor=\"middle\" x=\"494.5\" y=\"-394.8\" font-family=\"Helvetica,sans-Serif\" font-size=\"14.00\">gini = 0.16</text>\n<text text-anchor=\"middle\" x=\"494.5\" y=\"-379.8\" font-family=\"Helvetica,sans-Serif\" font-size=\"14.00\">samples = 57</text>\n<text text-anchor=\"middle\" x=\"494.5\" y=\"-364.8\" font-family=\"Helvetica,sans-Serif\" font-size=\"14.00\">value = [5, 52]</text>\n<text text-anchor=\"middle\" x=\"494.5\" y=\"-349.8\" font-family=\"Helvetica,sans-Serif\" font-size=\"14.00\">class = menos_chance</text>\n</g>\n<!-- 3&#45;&gt;4 -->\n<g id=\"edge4\" class=\"edge\">\n<title>3&#45;&gt;4</title>\n<path fill=\"none\" stroke=\"black\" d=\"M676.75,-465.21C673.63,-463.79 670.53,-462.38 667.5,-461 639.56,-448.32 608.97,-434.7 581.38,-422.53\"/>\n<polygon fill=\"black\" stroke=\"black\" points=\"582.71,-419.29 572.15,-418.45 579.89,-425.69 582.71,-419.29\"/>\n</g>\n<!-- 15 -->\n<g id=\"node16\" class=\"node\">\n<title>15</title>\n<polygon fill=\"#cee6f8\" stroke=\"black\" points=\"832,-425 677,-425 677,-342 832,-342 832,-425\"/>\n<text text-anchor=\"middle\" x=\"754.5\" y=\"-409.8\" font-family=\"Helvetica,sans-Serif\" font-size=\"14.00\">idade &lt;= 59.0</text>\n<text text-anchor=\"middle\" x=\"754.5\" y=\"-394.8\" font-family=\"Helvetica,sans-Serif\" font-size=\"14.00\">gini = 0.49</text>\n<text text-anchor=\"middle\" x=\"754.5\" y=\"-379.8\" font-family=\"Helvetica,sans-Serif\" font-size=\"14.00\">samples = 14</text>\n<text text-anchor=\"middle\" x=\"754.5\" y=\"-364.8\" font-family=\"Helvetica,sans-Serif\" font-size=\"14.00\">value = [6, 8]</text>\n<text text-anchor=\"middle\" x=\"754.5\" y=\"-349.8\" font-family=\"Helvetica,sans-Serif\" font-size=\"14.00\">class = menos_chance</text>\n</g>\n<!-- 3&#45;&gt;15 -->\n<g id=\"edge15\" class=\"edge\">\n<title>3&#45;&gt;15</title>\n<path fill=\"none\" stroke=\"black\" d=\"M754.5,-460.91C754.5,-452.65 754.5,-443.86 754.5,-435.3\"/>\n<polygon fill=\"black\" stroke=\"black\" points=\"758,-435.02 754.5,-425.02 751,-435.02 758,-435.02\"/>\n</g>\n<!-- 5 -->\n<g id=\"node6\" class=\"node\">\n<title>5</title>\n<polygon fill=\"#3e9fe6\" stroke=\"black\" points=\"322,-306 167,-306 167,-223 322,-223 322,-306\"/>\n<text text-anchor=\"middle\" x=\"244.5\" y=\"-290.8\" font-family=\"Helvetica,sans-Serif\" font-size=\"14.00\">colesterol &lt;= 316.5</text>\n<text text-anchor=\"middle\" x=\"244.5\" y=\"-275.8\" font-family=\"Helvetica,sans-Serif\" font-size=\"14.00\">gini = 0.046</text>\n<text text-anchor=\"middle\" x=\"244.5\" y=\"-260.8\" font-family=\"Helvetica,sans-Serif\" font-size=\"14.00\">samples = 42</text>\n<text text-anchor=\"middle\" x=\"244.5\" y=\"-245.8\" font-family=\"Helvetica,sans-Serif\" font-size=\"14.00\">value = [1, 41]</text>\n<text text-anchor=\"middle\" x=\"244.5\" y=\"-230.8\" font-family=\"Helvetica,sans-Serif\" font-size=\"14.00\">class = menos_chance</text>\n</g>\n<!-- 4&#45;&gt;5 -->\n<g id=\"edge5\" class=\"edge\">\n<title>4&#45;&gt;5</title>\n<path fill=\"none\" stroke=\"black\" d=\"M416.77,-346.12C389.73,-333.47 359.22,-319.19 331.48,-306.21\"/>\n<polygon fill=\"black\" stroke=\"black\" points=\"332.72,-302.92 322.18,-301.86 329.76,-309.26 332.72,-302.92\"/>\n</g>\n<!-- 10 -->\n<g id=\"node11\" class=\"node\">\n<title>10</title>\n<polygon fill=\"#81c1ee\" stroke=\"black\" points=\"572,-306 417,-306 417,-223 572,-223 572,-306\"/>\n<text text-anchor=\"middle\" x=\"494.5\" y=\"-290.8\" font-family=\"Helvetica,sans-Serif\" font-size=\"14.00\">fm_cardiaca &lt;= 132.5</text>\n<text text-anchor=\"middle\" x=\"494.5\" y=\"-275.8\" font-family=\"Helvetica,sans-Serif\" font-size=\"14.00\">gini = 0.391</text>\n<text text-anchor=\"middle\" x=\"494.5\" y=\"-260.8\" font-family=\"Helvetica,sans-Serif\" font-size=\"14.00\">samples = 15</text>\n<text text-anchor=\"middle\" x=\"494.5\" y=\"-245.8\" font-family=\"Helvetica,sans-Serif\" font-size=\"14.00\">value = [4, 11]</text>\n<text text-anchor=\"middle\" x=\"494.5\" y=\"-230.8\" font-family=\"Helvetica,sans-Serif\" font-size=\"14.00\">class = menos_chance</text>\n</g>\n<!-- 4&#45;&gt;10 -->\n<g id=\"edge10\" class=\"edge\">\n<title>4&#45;&gt;10</title>\n<path fill=\"none\" stroke=\"black\" d=\"M494.5,-341.91C494.5,-333.65 494.5,-324.86 494.5,-316.3\"/>\n<polygon fill=\"black\" stroke=\"black\" points=\"498,-316.02 494.5,-306.02 491,-316.02 498,-316.02\"/>\n</g>\n<!-- 6 -->\n<g id=\"node7\" class=\"node\">\n<title>6</title>\n<polygon fill=\"#399de5\" stroke=\"black\" points=\"155,-179.5 0,-179.5 0,-111.5 155,-111.5 155,-179.5\"/>\n<text text-anchor=\"middle\" x=\"77.5\" y=\"-164.3\" font-family=\"Helvetica,sans-Serif\" font-size=\"14.00\">gini = 0.0</text>\n<text text-anchor=\"middle\" x=\"77.5\" y=\"-149.3\" font-family=\"Helvetica,sans-Serif\" font-size=\"14.00\">samples = 40</text>\n<text text-anchor=\"middle\" x=\"77.5\" y=\"-134.3\" font-family=\"Helvetica,sans-Serif\" font-size=\"14.00\">value = [0, 40]</text>\n<text text-anchor=\"middle\" x=\"77.5\" y=\"-119.3\" font-family=\"Helvetica,sans-Serif\" font-size=\"14.00\">class = menos_chance</text>\n</g>\n<!-- 5&#45;&gt;6 -->\n<g id=\"edge6\" class=\"edge\">\n<title>5&#45;&gt;6</title>\n<path fill=\"none\" stroke=\"black\" d=\"M186.56,-222.91C169.24,-210.77 150.29,-197.49 133.11,-185.46\"/>\n<polygon fill=\"black\" stroke=\"black\" points=\"135.04,-182.54 124.84,-179.67 131.02,-188.27 135.04,-182.54\"/>\n</g>\n<!-- 7 -->\n<g id=\"node8\" class=\"node\">\n<title>7</title>\n<polygon fill=\"#ffffff\" stroke=\"black\" points=\"316,-187 173,-187 173,-104 316,-104 316,-187\"/>\n<text text-anchor=\"middle\" x=\"244.5\" y=\"-171.8\" font-family=\"Helvetica,sans-Serif\" font-size=\"14.00\">colesterol &lt;= 336.0</text>\n<text text-anchor=\"middle\" x=\"244.5\" y=\"-156.8\" font-family=\"Helvetica,sans-Serif\" font-size=\"14.00\">gini = 0.5</text>\n<text text-anchor=\"middle\" x=\"244.5\" y=\"-141.8\" font-family=\"Helvetica,sans-Serif\" font-size=\"14.00\">samples = 2</text>\n<text text-anchor=\"middle\" x=\"244.5\" y=\"-126.8\" font-family=\"Helvetica,sans-Serif\" font-size=\"14.00\">value = [1, 1]</text>\n<text text-anchor=\"middle\" x=\"244.5\" y=\"-111.8\" font-family=\"Helvetica,sans-Serif\" font-size=\"14.00\">class = mais_chance</text>\n</g>\n<!-- 5&#45;&gt;7 -->\n<g id=\"edge7\" class=\"edge\">\n<title>5&#45;&gt;7</title>\n<path fill=\"none\" stroke=\"black\" d=\"M244.5,-222.91C244.5,-214.65 244.5,-205.86 244.5,-197.3\"/>\n<polygon fill=\"black\" stroke=\"black\" points=\"248,-197.02 244.5,-187.02 241,-197.02 248,-197.02\"/>\n</g>\n<!-- 8 -->\n<g id=\"node9\" class=\"node\">\n<title>8</title>\n<polygon fill=\"#e58139\" stroke=\"black\" points=\"149,-68 6,-68 6,0 149,0 149,-68\"/>\n<text text-anchor=\"middle\" x=\"77.5\" y=\"-52.8\" font-family=\"Helvetica,sans-Serif\" font-size=\"14.00\">gini = 0.0</text>\n<text text-anchor=\"middle\" x=\"77.5\" y=\"-37.8\" font-family=\"Helvetica,sans-Serif\" font-size=\"14.00\">samples = 1</text>\n<text text-anchor=\"middle\" x=\"77.5\" y=\"-22.8\" font-family=\"Helvetica,sans-Serif\" font-size=\"14.00\">value = [1, 0]</text>\n<text text-anchor=\"middle\" x=\"77.5\" y=\"-7.8\" font-family=\"Helvetica,sans-Serif\" font-size=\"14.00\">class = mais_chance</text>\n</g>\n<!-- 7&#45;&gt;8 -->\n<g id=\"edge8\" class=\"edge\">\n<title>7&#45;&gt;8</title>\n<path fill=\"none\" stroke=\"black\" d=\"M182.32,-103.73C167.35,-93.92 151.41,-83.46 136.6,-73.75\"/>\n<polygon fill=\"black\" stroke=\"black\" points=\"138.3,-70.68 128.02,-68.13 134.46,-76.54 138.3,-70.68\"/>\n</g>\n<!-- 9 -->\n<g id=\"node10\" class=\"node\">\n<title>9</title>\n<polygon fill=\"#399de5\" stroke=\"black\" points=\"322,-68 167,-68 167,0 322,0 322,-68\"/>\n<text text-anchor=\"middle\" x=\"244.5\" y=\"-52.8\" font-family=\"Helvetica,sans-Serif\" font-size=\"14.00\">gini = 0.0</text>\n<text text-anchor=\"middle\" x=\"244.5\" y=\"-37.8\" font-family=\"Helvetica,sans-Serif\" font-size=\"14.00\">samples = 1</text>\n<text text-anchor=\"middle\" x=\"244.5\" y=\"-22.8\" font-family=\"Helvetica,sans-Serif\" font-size=\"14.00\">value = [0, 1]</text>\n<text text-anchor=\"middle\" x=\"244.5\" y=\"-7.8\" font-family=\"Helvetica,sans-Serif\" font-size=\"14.00\">class = menos_chance</text>\n</g>\n<!-- 7&#45;&gt;9 -->\n<g id=\"edge9\" class=\"edge\">\n<title>7&#45;&gt;9</title>\n<path fill=\"none\" stroke=\"black\" d=\"M244.5,-103.73C244.5,-95.52 244.5,-86.86 244.5,-78.56\"/>\n<polygon fill=\"black\" stroke=\"black\" points=\"248,-78.3 244.5,-68.3 241,-78.3 248,-78.3\"/>\n</g>\n<!-- 11 -->\n<g id=\"node12\" class=\"node\">\n<title>11</title>\n<polygon fill=\"#e58139\" stroke=\"black\" points=\"479,-179.5 336,-179.5 336,-111.5 479,-111.5 479,-179.5\"/>\n<text text-anchor=\"middle\" x=\"407.5\" y=\"-164.3\" font-family=\"Helvetica,sans-Serif\" font-size=\"14.00\">gini = 0.0</text>\n<text text-anchor=\"middle\" x=\"407.5\" y=\"-149.3\" font-family=\"Helvetica,sans-Serif\" font-size=\"14.00\">samples = 1</text>\n<text text-anchor=\"middle\" x=\"407.5\" y=\"-134.3\" font-family=\"Helvetica,sans-Serif\" font-size=\"14.00\">value = [1, 0]</text>\n<text text-anchor=\"middle\" x=\"407.5\" y=\"-119.3\" font-family=\"Helvetica,sans-Serif\" font-size=\"14.00\">class = mais_chance</text>\n</g>\n<!-- 10&#45;&gt;11 -->\n<g id=\"edge11\" class=\"edge\">\n<title>10&#45;&gt;11</title>\n<path fill=\"none\" stroke=\"black\" d=\"M464.32,-222.91C455.86,-211.54 446.67,-199.18 438.19,-187.77\"/>\n<polygon fill=\"black\" stroke=\"black\" points=\"440.94,-185.6 432.16,-179.67 435.32,-189.78 440.94,-185.6\"/>\n</g>\n<!-- 12 -->\n<g id=\"node13\" class=\"node\">\n<title>12</title>\n<polygon fill=\"#6fb8ec\" stroke=\"black\" points=\"652,-187 497,-187 497,-104 652,-104 652,-187\"/>\n<text text-anchor=\"middle\" x=\"574.5\" y=\"-171.8\" font-family=\"Helvetica,sans-Serif\" font-size=\"14.00\">idade &lt;= 41.0</text>\n<text text-anchor=\"middle\" x=\"574.5\" y=\"-156.8\" font-family=\"Helvetica,sans-Serif\" font-size=\"14.00\">gini = 0.337</text>\n<text text-anchor=\"middle\" x=\"574.5\" y=\"-141.8\" font-family=\"Helvetica,sans-Serif\" font-size=\"14.00\">samples = 14</text>\n<text text-anchor=\"middle\" x=\"574.5\" y=\"-126.8\" font-family=\"Helvetica,sans-Serif\" font-size=\"14.00\">value = [3, 11]</text>\n<text text-anchor=\"middle\" x=\"574.5\" y=\"-111.8\" font-family=\"Helvetica,sans-Serif\" font-size=\"14.00\">class = menos_chance</text>\n</g>\n<!-- 10&#45;&gt;12 -->\n<g id=\"edge12\" class=\"edge\">\n<title>10&#45;&gt;12</title>\n<path fill=\"none\" stroke=\"black\" d=\"M522.26,-222.91C528.34,-214.01 534.84,-204.51 541.11,-195.33\"/>\n<polygon fill=\"black\" stroke=\"black\" points=\"544.04,-197.25 546.79,-187.02 538.26,-193.3 544.04,-197.25\"/>\n</g>\n<!-- 13 -->\n<g id=\"node14\" class=\"node\">\n<title>13</title>\n<polygon fill=\"#e58139\" stroke=\"black\" points=\"483,-68 340,-68 340,0 483,0 483,-68\"/>\n<text text-anchor=\"middle\" x=\"411.5\" y=\"-52.8\" font-family=\"Helvetica,sans-Serif\" font-size=\"14.00\">gini = 0.0</text>\n<text text-anchor=\"middle\" x=\"411.5\" y=\"-37.8\" font-family=\"Helvetica,sans-Serif\" font-size=\"14.00\">samples = 1</text>\n<text text-anchor=\"middle\" x=\"411.5\" y=\"-22.8\" font-family=\"Helvetica,sans-Serif\" font-size=\"14.00\">value = [1, 0]</text>\n<text text-anchor=\"middle\" x=\"411.5\" y=\"-7.8\" font-family=\"Helvetica,sans-Serif\" font-size=\"14.00\">class = mais_chance</text>\n</g>\n<!-- 12&#45;&gt;13 -->\n<g id=\"edge13\" class=\"edge\">\n<title>12&#45;&gt;13</title>\n<path fill=\"none\" stroke=\"black\" d=\"M513.8,-103.73C499.2,-93.92 483.64,-83.46 469.18,-73.75\"/>\n<polygon fill=\"black\" stroke=\"black\" points=\"471.06,-70.8 460.81,-68.13 467.16,-76.61 471.06,-70.8\"/>\n</g>\n<!-- 14 -->\n<g id=\"node15\" class=\"node\">\n<title>14</title>\n<polygon fill=\"#5dafea\" stroke=\"black\" points=\"656,-68 501,-68 501,0 656,0 656,-68\"/>\n<text text-anchor=\"middle\" x=\"578.5\" y=\"-52.8\" font-family=\"Helvetica,sans-Serif\" font-size=\"14.00\">gini = 0.26</text>\n<text text-anchor=\"middle\" x=\"578.5\" y=\"-37.8\" font-family=\"Helvetica,sans-Serif\" font-size=\"14.00\">samples = 13</text>\n<text text-anchor=\"middle\" x=\"578.5\" y=\"-22.8\" font-family=\"Helvetica,sans-Serif\" font-size=\"14.00\">value = [2, 11]</text>\n<text text-anchor=\"middle\" x=\"578.5\" y=\"-7.8\" font-family=\"Helvetica,sans-Serif\" font-size=\"14.00\">class = menos_chance</text>\n</g>\n<!-- 12&#45;&gt;14 -->\n<g id=\"edge14\" class=\"edge\">\n<title>12&#45;&gt;14</title>\n<path fill=\"none\" stroke=\"black\" d=\"M575.99,-103.73C576.29,-95.52 576.61,-86.86 576.91,-78.56\"/>\n<polygon fill=\"black\" stroke=\"black\" points=\"580.42,-78.42 577.28,-68.3 573.42,-78.17 580.42,-78.42\"/>\n</g>\n<!-- 16 -->\n<g id=\"node17\" class=\"node\">\n<title>16</title>\n<polygon fill=\"#83c2ef\" stroke=\"black\" points=\"826,-306 671,-306 671,-223 826,-223 826,-306\"/>\n<text text-anchor=\"middle\" x=\"748.5\" y=\"-290.8\" font-family=\"Helvetica,sans-Serif\" font-size=\"14.00\">idade &lt;= 43.0</text>\n<text text-anchor=\"middle\" x=\"748.5\" y=\"-275.8\" font-family=\"Helvetica,sans-Serif\" font-size=\"14.00\">gini = 0.397</text>\n<text text-anchor=\"middle\" x=\"748.5\" y=\"-260.8\" font-family=\"Helvetica,sans-Serif\" font-size=\"14.00\">samples = 11</text>\n<text text-anchor=\"middle\" x=\"748.5\" y=\"-245.8\" font-family=\"Helvetica,sans-Serif\" font-size=\"14.00\">value = [3, 8]</text>\n<text text-anchor=\"middle\" x=\"748.5\" y=\"-230.8\" font-family=\"Helvetica,sans-Serif\" font-size=\"14.00\">class = menos_chance</text>\n</g>\n<!-- 15&#45;&gt;16 -->\n<g id=\"edge16\" class=\"edge\">\n<title>15&#45;&gt;16</title>\n<path fill=\"none\" stroke=\"black\" d=\"M752.42,-341.91C751.99,-333.56 751.53,-324.67 751.09,-316.02\"/>\n<polygon fill=\"black\" stroke=\"black\" points=\"754.59,-315.83 750.58,-306.02 747.59,-316.19 754.59,-315.83\"/>\n</g>\n<!-- 21 -->\n<g id=\"node22\" class=\"node\">\n<title>21</title>\n<polygon fill=\"#e58139\" stroke=\"black\" points=\"987,-298.5 844,-298.5 844,-230.5 987,-230.5 987,-298.5\"/>\n<text text-anchor=\"middle\" x=\"915.5\" y=\"-283.3\" font-family=\"Helvetica,sans-Serif\" font-size=\"14.00\">gini = 0.0</text>\n<text text-anchor=\"middle\" x=\"915.5\" y=\"-268.3\" font-family=\"Helvetica,sans-Serif\" font-size=\"14.00\">samples = 3</text>\n<text text-anchor=\"middle\" x=\"915.5\" y=\"-253.3\" font-family=\"Helvetica,sans-Serif\" font-size=\"14.00\">value = [3, 0]</text>\n<text text-anchor=\"middle\" x=\"915.5\" y=\"-238.3\" font-family=\"Helvetica,sans-Serif\" font-size=\"14.00\">class = mais_chance</text>\n</g>\n<!-- 15&#45;&gt;21 -->\n<g id=\"edge21\" class=\"edge\">\n<title>15&#45;&gt;21</title>\n<path fill=\"none\" stroke=\"black\" d=\"M810.36,-341.91C826.91,-329.88 845,-316.73 861.43,-304.79\"/>\n<polygon fill=\"black\" stroke=\"black\" points=\"863.83,-307.38 869.86,-298.67 859.71,-301.71 863.83,-307.38\"/>\n</g>\n<!-- 17 -->\n<g id=\"node18\" class=\"node\">\n<title>17</title>\n<polygon fill=\"#eeab7b\" stroke=\"black\" points=\"818.5,-187 672.5,-187 672.5,-104 818.5,-104 818.5,-187\"/>\n<text text-anchor=\"middle\" x=\"745.5\" y=\"-171.8\" font-family=\"Helvetica,sans-Serif\" font-size=\"14.00\">pa_repouso &lt;= 138.0</text>\n<text text-anchor=\"middle\" x=\"745.5\" y=\"-156.8\" font-family=\"Helvetica,sans-Serif\" font-size=\"14.00\">gini = 0.375</text>\n<text text-anchor=\"middle\" x=\"745.5\" y=\"-141.8\" font-family=\"Helvetica,sans-Serif\" font-size=\"14.00\">samples = 4</text>\n<text text-anchor=\"middle\" x=\"745.5\" y=\"-126.8\" font-family=\"Helvetica,sans-Serif\" font-size=\"14.00\">value = [3, 1]</text>\n<text text-anchor=\"middle\" x=\"745.5\" y=\"-111.8\" font-family=\"Helvetica,sans-Serif\" font-size=\"14.00\">class = mais_chance</text>\n</g>\n<!-- 16&#45;&gt;17 -->\n<g id=\"edge17\" class=\"edge\">\n<title>16&#45;&gt;17</title>\n<path fill=\"none\" stroke=\"black\" d=\"M747.46,-222.91C747.25,-214.56 747.02,-205.67 746.8,-197.02\"/>\n<polygon fill=\"black\" stroke=\"black\" points=\"750.29,-196.93 746.54,-187.02 743.3,-197.11 750.29,-196.93\"/>\n</g>\n<!-- 20 -->\n<g id=\"node21\" class=\"node\">\n<title>20</title>\n<polygon fill=\"#399de5\" stroke=\"black\" points=\"992,-179.5 837,-179.5 837,-111.5 992,-111.5 992,-179.5\"/>\n<text text-anchor=\"middle\" x=\"914.5\" y=\"-164.3\" font-family=\"Helvetica,sans-Serif\" font-size=\"14.00\">gini = 0.0</text>\n<text text-anchor=\"middle\" x=\"914.5\" y=\"-149.3\" font-family=\"Helvetica,sans-Serif\" font-size=\"14.00\">samples = 7</text>\n<text text-anchor=\"middle\" x=\"914.5\" y=\"-134.3\" font-family=\"Helvetica,sans-Serif\" font-size=\"14.00\">value = [0, 7]</text>\n<text text-anchor=\"middle\" x=\"914.5\" y=\"-119.3\" font-family=\"Helvetica,sans-Serif\" font-size=\"14.00\">class = menos_chance</text>\n</g>\n<!-- 16&#45;&gt;20 -->\n<g id=\"edge20\" class=\"edge\">\n<title>16&#45;&gt;20</title>\n<path fill=\"none\" stroke=\"black\" d=\"M806.09,-222.91C823.31,-210.77 842.15,-197.49 859.22,-185.46\"/>\n<polygon fill=\"black\" stroke=\"black\" points=\"861.29,-188.29 867.44,-179.67 857.25,-182.57 861.29,-188.29\"/>\n</g>\n<!-- 18 -->\n<g id=\"node19\" class=\"node\">\n<title>18</title>\n<polygon fill=\"#e58139\" stroke=\"black\" points=\"817,-68 674,-68 674,0 817,0 817,-68\"/>\n<text text-anchor=\"middle\" x=\"745.5\" y=\"-52.8\" font-family=\"Helvetica,sans-Serif\" font-size=\"14.00\">gini = 0.0</text>\n<text text-anchor=\"middle\" x=\"745.5\" y=\"-37.8\" font-family=\"Helvetica,sans-Serif\" font-size=\"14.00\">samples = 3</text>\n<text text-anchor=\"middle\" x=\"745.5\" y=\"-22.8\" font-family=\"Helvetica,sans-Serif\" font-size=\"14.00\">value = [3, 0]</text>\n<text text-anchor=\"middle\" x=\"745.5\" y=\"-7.8\" font-family=\"Helvetica,sans-Serif\" font-size=\"14.00\">class = mais_chance</text>\n</g>\n<!-- 17&#45;&gt;18 -->\n<g id=\"edge18\" class=\"edge\">\n<title>17&#45;&gt;18</title>\n<path fill=\"none\" stroke=\"black\" d=\"M745.5,-103.73C745.5,-95.52 745.5,-86.86 745.5,-78.56\"/>\n<polygon fill=\"black\" stroke=\"black\" points=\"749,-78.3 745.5,-68.3 742,-78.3 749,-78.3\"/>\n</g>\n<!-- 19 -->\n<g id=\"node20\" class=\"node\">\n<title>19</title>\n<polygon fill=\"#399de5\" stroke=\"black\" points=\"990,-68 835,-68 835,0 990,0 990,-68\"/>\n<text text-anchor=\"middle\" x=\"912.5\" y=\"-52.8\" font-family=\"Helvetica,sans-Serif\" font-size=\"14.00\">gini = 0.0</text>\n<text text-anchor=\"middle\" x=\"912.5\" y=\"-37.8\" font-family=\"Helvetica,sans-Serif\" font-size=\"14.00\">samples = 1</text>\n<text text-anchor=\"middle\" x=\"912.5\" y=\"-22.8\" font-family=\"Helvetica,sans-Serif\" font-size=\"14.00\">value = [0, 1]</text>\n<text text-anchor=\"middle\" x=\"912.5\" y=\"-7.8\" font-family=\"Helvetica,sans-Serif\" font-size=\"14.00\">class = menos_chance</text>\n</g>\n<!-- 17&#45;&gt;19 -->\n<g id=\"edge19\" class=\"edge\">\n<title>17&#45;&gt;19</title>\n<path fill=\"none\" stroke=\"black\" d=\"M807.68,-103.73C822.65,-93.92 838.59,-83.46 853.4,-73.75\"/>\n<polygon fill=\"black\" stroke=\"black\" points=\"855.54,-76.54 861.98,-68.13 851.7,-70.68 855.54,-76.54\"/>\n</g>\n<!-- 23 -->\n<g id=\"node24\" class=\"node\">\n<title>23</title>\n<polygon fill=\"#e99355\" stroke=\"black\" points=\"1160,-544 1017,-544 1017,-461 1160,-461 1160,-544\"/>\n<text text-anchor=\"middle\" x=\"1088.5\" y=\"-528.8\" font-family=\"Helvetica,sans-Serif\" font-size=\"14.00\">re_repouso &lt;= 0.5</text>\n<text text-anchor=\"middle\" x=\"1088.5\" y=\"-513.8\" font-family=\"Helvetica,sans-Serif\" font-size=\"14.00\">gini = 0.219</text>\n<text text-anchor=\"middle\" x=\"1088.5\" y=\"-498.8\" font-family=\"Helvetica,sans-Serif\" font-size=\"14.00\">samples = 32</text>\n<text text-anchor=\"middle\" x=\"1088.5\" y=\"-483.8\" font-family=\"Helvetica,sans-Serif\" font-size=\"14.00\">value = [28, 4]</text>\n<text text-anchor=\"middle\" x=\"1088.5\" y=\"-468.8\" font-family=\"Helvetica,sans-Serif\" font-size=\"14.00\">class = mais_chance</text>\n</g>\n<!-- 22&#45;&gt;23 -->\n<g id=\"edge23\" class=\"edge\">\n<title>22&#45;&gt;23</title>\n<path fill=\"none\" stroke=\"black\" d=\"M1088.5,-579.91C1088.5,-571.65 1088.5,-562.86 1088.5,-554.3\"/>\n<polygon fill=\"black\" stroke=\"black\" points=\"1092,-554.02 1088.5,-544.02 1085,-554.02 1092,-554.02\"/>\n</g>\n<!-- 32 -->\n<g id=\"node33\" class=\"node\">\n<title>32</title>\n<polygon fill=\"#93caf1\" stroke=\"black\" points=\"1505,-544 1350,-544 1350,-461 1505,-461 1505,-544\"/>\n<text text-anchor=\"middle\" x=\"1427.5\" y=\"-528.8\" font-family=\"Helvetica,sans-Serif\" font-size=\"14.00\">declive &lt;= 1.5</text>\n<text text-anchor=\"middle\" x=\"1427.5\" y=\"-513.8\" font-family=\"Helvetica,sans-Serif\" font-size=\"14.00\">gini = 0.43</text>\n<text text-anchor=\"middle\" x=\"1427.5\" y=\"-498.8\" font-family=\"Helvetica,sans-Serif\" font-size=\"14.00\">samples = 16</text>\n<text text-anchor=\"middle\" x=\"1427.5\" y=\"-483.8\" font-family=\"Helvetica,sans-Serif\" font-size=\"14.00\">value = [5, 11]</text>\n<text text-anchor=\"middle\" x=\"1427.5\" y=\"-468.8\" font-family=\"Helvetica,sans-Serif\" font-size=\"14.00\">class = menos_chance</text>\n</g>\n<!-- 22&#45;&gt;32 -->\n<g id=\"edge32\" class=\"edge\">\n<title>22&#45;&gt;32</title>\n<path fill=\"none\" stroke=\"black\" d=\"M1160.39,-595.69C1212.94,-577.55 1284.47,-552.86 1340.28,-533.6\"/>\n<polygon fill=\"black\" stroke=\"black\" points=\"1341.5,-536.89 1349.81,-530.31 1339.21,-530.27 1341.5,-536.89\"/>\n</g>\n<!-- 24 -->\n<g id=\"node25\" class=\"node\">\n<title>24</title>\n<polygon fill=\"#e58139\" stroke=\"black\" points=\"1079,-417.5 936,-417.5 936,-349.5 1079,-349.5 1079,-417.5\"/>\n<text text-anchor=\"middle\" x=\"1007.5\" y=\"-402.3\" font-family=\"Helvetica,sans-Serif\" font-size=\"14.00\">gini = 0.0</text>\n<text text-anchor=\"middle\" x=\"1007.5\" y=\"-387.3\" font-family=\"Helvetica,sans-Serif\" font-size=\"14.00\">samples = 21</text>\n<text text-anchor=\"middle\" x=\"1007.5\" y=\"-372.3\" font-family=\"Helvetica,sans-Serif\" font-size=\"14.00\">value = [21, 0]</text>\n<text text-anchor=\"middle\" x=\"1007.5\" y=\"-357.3\" font-family=\"Helvetica,sans-Serif\" font-size=\"14.00\">class = mais_chance</text>\n</g>\n<!-- 23&#45;&gt;24 -->\n<g id=\"edge24\" class=\"edge\">\n<title>23&#45;&gt;24</title>\n<path fill=\"none\" stroke=\"black\" d=\"M1060.4,-460.91C1052.61,-449.65 1044.14,-437.42 1036.3,-426.11\"/>\n<polygon fill=\"black\" stroke=\"black\" points=\"1039.03,-423.9 1030.46,-417.67 1033.28,-427.88 1039.03,-423.9\"/>\n</g>\n<!-- 25 -->\n<g id=\"node26\" class=\"node\">\n<title>25</title>\n<polygon fill=\"#f4c9aa\" stroke=\"black\" points=\"1243.5,-425 1097.5,-425 1097.5,-342 1243.5,-342 1243.5,-425\"/>\n<text text-anchor=\"middle\" x=\"1170.5\" y=\"-409.8\" font-family=\"Helvetica,sans-Serif\" font-size=\"14.00\">pa_repouso &lt;= 126.5</text>\n<text text-anchor=\"middle\" x=\"1170.5\" y=\"-394.8\" font-family=\"Helvetica,sans-Serif\" font-size=\"14.00\">gini = 0.463</text>\n<text text-anchor=\"middle\" x=\"1170.5\" y=\"-379.8\" font-family=\"Helvetica,sans-Serif\" font-size=\"14.00\">samples = 11</text>\n<text text-anchor=\"middle\" x=\"1170.5\" y=\"-364.8\" font-family=\"Helvetica,sans-Serif\" font-size=\"14.00\">value = [7, 4]</text>\n<text text-anchor=\"middle\" x=\"1170.5\" y=\"-349.8\" font-family=\"Helvetica,sans-Serif\" font-size=\"14.00\">class = mais_chance</text>\n</g>\n<!-- 23&#45;&gt;25 -->\n<g id=\"edge25\" class=\"edge\">\n<title>23&#45;&gt;25</title>\n<path fill=\"none\" stroke=\"black\" d=\"M1116.95,-460.91C1123.18,-452.01 1129.84,-442.51 1136.28,-433.33\"/>\n<polygon fill=\"black\" stroke=\"black\" points=\"1139.23,-435.22 1142.1,-425.02 1133.5,-431.2 1139.23,-435.22\"/>\n</g>\n<!-- 26 -->\n<g id=\"node27\" class=\"node\">\n<title>26</title>\n<polygon fill=\"#eca572\" stroke=\"black\" points=\"1159,-306 1016,-306 1016,-223 1159,-223 1159,-306\"/>\n<text text-anchor=\"middle\" x=\"1087.5\" y=\"-290.8\" font-family=\"Helvetica,sans-Serif\" font-size=\"14.00\">colesterol &lt;= 226.5</text>\n<text text-anchor=\"middle\" x=\"1087.5\" y=\"-275.8\" font-family=\"Helvetica,sans-Serif\" font-size=\"14.00\">gini = 0.346</text>\n<text text-anchor=\"middle\" x=\"1087.5\" y=\"-260.8\" font-family=\"Helvetica,sans-Serif\" font-size=\"14.00\">samples = 9</text>\n<text text-anchor=\"middle\" x=\"1087.5\" y=\"-245.8\" font-family=\"Helvetica,sans-Serif\" font-size=\"14.00\">value = [7, 2]</text>\n<text text-anchor=\"middle\" x=\"1087.5\" y=\"-230.8\" font-family=\"Helvetica,sans-Serif\" font-size=\"14.00\">class = mais_chance</text>\n</g>\n<!-- 25&#45;&gt;26 -->\n<g id=\"edge26\" class=\"edge\">\n<title>25&#45;&gt;26</title>\n<path fill=\"none\" stroke=\"black\" d=\"M1141.7,-341.91C1135.39,-333.01 1128.65,-323.51 1122.14,-314.33\"/>\n<polygon fill=\"black\" stroke=\"black\" points=\"1124.89,-312.15 1116.25,-306.02 1119.18,-316.2 1124.89,-312.15\"/>\n</g>\n<!-- 31 -->\n<g id=\"node32\" class=\"node\">\n<title>31</title>\n<polygon fill=\"#399de5\" stroke=\"black\" points=\"1332,-298.5 1177,-298.5 1177,-230.5 1332,-230.5 1332,-298.5\"/>\n<text text-anchor=\"middle\" x=\"1254.5\" y=\"-283.3\" font-family=\"Helvetica,sans-Serif\" font-size=\"14.00\">gini = 0.0</text>\n<text text-anchor=\"middle\" x=\"1254.5\" y=\"-268.3\" font-family=\"Helvetica,sans-Serif\" font-size=\"14.00\">samples = 2</text>\n<text text-anchor=\"middle\" x=\"1254.5\" y=\"-253.3\" font-family=\"Helvetica,sans-Serif\" font-size=\"14.00\">value = [0, 2]</text>\n<text text-anchor=\"middle\" x=\"1254.5\" y=\"-238.3\" font-family=\"Helvetica,sans-Serif\" font-size=\"14.00\">class = menos_chance</text>\n</g>\n<!-- 25&#45;&gt;31 -->\n<g id=\"edge31\" class=\"edge\">\n<title>25&#45;&gt;31</title>\n<path fill=\"none\" stroke=\"black\" d=\"M1199.64,-341.91C1207.72,-330.65 1216.51,-318.42 1224.63,-307.11\"/>\n<polygon fill=\"black\" stroke=\"black\" points=\"1227.7,-308.83 1230.69,-298.67 1222.01,-304.75 1227.7,-308.83\"/>\n</g>\n<!-- 27 -->\n<g id=\"node28\" class=\"node\">\n<title>27</title>\n<polygon fill=\"#9ccef2\" stroke=\"black\" points=\"1165,-187 1010,-187 1010,-104 1165,-104 1165,-187\"/>\n<text text-anchor=\"middle\" x=\"1087.5\" y=\"-171.8\" font-family=\"Helvetica,sans-Serif\" font-size=\"14.00\">idade &lt;= 55.0</text>\n<text text-anchor=\"middle\" x=\"1087.5\" y=\"-156.8\" font-family=\"Helvetica,sans-Serif\" font-size=\"14.00\">gini = 0.444</text>\n<text text-anchor=\"middle\" x=\"1087.5\" y=\"-141.8\" font-family=\"Helvetica,sans-Serif\" font-size=\"14.00\">samples = 3</text>\n<text text-anchor=\"middle\" x=\"1087.5\" y=\"-126.8\" font-family=\"Helvetica,sans-Serif\" font-size=\"14.00\">value = [1, 2]</text>\n<text text-anchor=\"middle\" x=\"1087.5\" y=\"-111.8\" font-family=\"Helvetica,sans-Serif\" font-size=\"14.00\">class = menos_chance</text>\n</g>\n<!-- 26&#45;&gt;27 -->\n<g id=\"edge27\" class=\"edge\">\n<title>26&#45;&gt;27</title>\n<path fill=\"none\" stroke=\"black\" d=\"M1087.5,-222.91C1087.5,-214.65 1087.5,-205.86 1087.5,-197.3\"/>\n<polygon fill=\"black\" stroke=\"black\" points=\"1091,-197.02 1087.5,-187.02 1084,-197.02 1091,-197.02\"/>\n</g>\n<!-- 30 -->\n<g id=\"node31\" class=\"node\">\n<title>30</title>\n<polygon fill=\"#e58139\" stroke=\"black\" points=\"1326,-179.5 1183,-179.5 1183,-111.5 1326,-111.5 1326,-179.5\"/>\n<text text-anchor=\"middle\" x=\"1254.5\" y=\"-164.3\" font-family=\"Helvetica,sans-Serif\" font-size=\"14.00\">gini = 0.0</text>\n<text text-anchor=\"middle\" x=\"1254.5\" y=\"-149.3\" font-family=\"Helvetica,sans-Serif\" font-size=\"14.00\">samples = 6</text>\n<text text-anchor=\"middle\" x=\"1254.5\" y=\"-134.3\" font-family=\"Helvetica,sans-Serif\" font-size=\"14.00\">value = [6, 0]</text>\n<text text-anchor=\"middle\" x=\"1254.5\" y=\"-119.3\" font-family=\"Helvetica,sans-Serif\" font-size=\"14.00\">class = mais_chance</text>\n</g>\n<!-- 26&#45;&gt;30 -->\n<g id=\"edge30\" class=\"edge\">\n<title>26&#45;&gt;30</title>\n<path fill=\"none\" stroke=\"black\" d=\"M1145.44,-222.91C1162.76,-210.77 1181.71,-197.49 1198.89,-185.46\"/>\n<polygon fill=\"black\" stroke=\"black\" points=\"1200.98,-188.27 1207.16,-179.67 1196.96,-182.54 1200.98,-188.27\"/>\n</g>\n<!-- 28 -->\n<g id=\"node29\" class=\"node\">\n<title>28</title>\n<polygon fill=\"#e58139\" stroke=\"black\" points=\"1155,-68 1012,-68 1012,0 1155,0 1155,-68\"/>\n<text text-anchor=\"middle\" x=\"1083.5\" y=\"-52.8\" font-family=\"Helvetica,sans-Serif\" font-size=\"14.00\">gini = 0.0</text>\n<text text-anchor=\"middle\" x=\"1083.5\" y=\"-37.8\" font-family=\"Helvetica,sans-Serif\" font-size=\"14.00\">samples = 1</text>\n<text text-anchor=\"middle\" x=\"1083.5\" y=\"-22.8\" font-family=\"Helvetica,sans-Serif\" font-size=\"14.00\">value = [1, 0]</text>\n<text text-anchor=\"middle\" x=\"1083.5\" y=\"-7.8\" font-family=\"Helvetica,sans-Serif\" font-size=\"14.00\">class = mais_chance</text>\n</g>\n<!-- 27&#45;&gt;28 -->\n<g id=\"edge28\" class=\"edge\">\n<title>27&#45;&gt;28</title>\n<path fill=\"none\" stroke=\"black\" d=\"M1086.01,-103.73C1085.71,-95.52 1085.39,-86.86 1085.09,-78.56\"/>\n<polygon fill=\"black\" stroke=\"black\" points=\"1088.58,-78.17 1084.72,-68.3 1081.58,-78.42 1088.58,-78.17\"/>\n</g>\n<!-- 29 -->\n<g id=\"node30\" class=\"node\">\n<title>29</title>\n<polygon fill=\"#399de5\" stroke=\"black\" points=\"1328,-68 1173,-68 1173,0 1328,0 1328,-68\"/>\n<text text-anchor=\"middle\" x=\"1250.5\" y=\"-52.8\" font-family=\"Helvetica,sans-Serif\" font-size=\"14.00\">gini = 0.0</text>\n<text text-anchor=\"middle\" x=\"1250.5\" y=\"-37.8\" font-family=\"Helvetica,sans-Serif\" font-size=\"14.00\">samples = 2</text>\n<text text-anchor=\"middle\" x=\"1250.5\" y=\"-22.8\" font-family=\"Helvetica,sans-Serif\" font-size=\"14.00\">value = [0, 2]</text>\n<text text-anchor=\"middle\" x=\"1250.5\" y=\"-7.8\" font-family=\"Helvetica,sans-Serif\" font-size=\"14.00\">class = menos_chance</text>\n</g>\n<!-- 27&#45;&gt;29 -->\n<g id=\"edge29\" class=\"edge\">\n<title>27&#45;&gt;29</title>\n<path fill=\"none\" stroke=\"black\" d=\"M1148.2,-103.73C1162.8,-93.92 1178.36,-83.46 1192.82,-73.75\"/>\n<polygon fill=\"black\" stroke=\"black\" points=\"1194.84,-76.61 1201.19,-68.13 1190.94,-70.8 1194.84,-76.61\"/>\n</g>\n<!-- 33 -->\n<g id=\"node34\" class=\"node\">\n<title>33</title>\n<polygon fill=\"#ea9a61\" stroke=\"black\" points=\"1499,-425 1356,-425 1356,-342 1499,-342 1499,-425\"/>\n<text text-anchor=\"middle\" x=\"1427.5\" y=\"-409.8\" font-family=\"Helvetica,sans-Serif\" font-size=\"14.00\">pico_anterior &lt;= 0.2</text>\n<text text-anchor=\"middle\" x=\"1427.5\" y=\"-394.8\" font-family=\"Helvetica,sans-Serif\" font-size=\"14.00\">gini = 0.278</text>\n<text text-anchor=\"middle\" x=\"1427.5\" y=\"-379.8\" font-family=\"Helvetica,sans-Serif\" font-size=\"14.00\">samples = 6</text>\n<text text-anchor=\"middle\" x=\"1427.5\" y=\"-364.8\" font-family=\"Helvetica,sans-Serif\" font-size=\"14.00\">value = [5, 1]</text>\n<text text-anchor=\"middle\" x=\"1427.5\" y=\"-349.8\" font-family=\"Helvetica,sans-Serif\" font-size=\"14.00\">class = mais_chance</text>\n</g>\n<!-- 32&#45;&gt;33 -->\n<g id=\"edge33\" class=\"edge\">\n<title>32&#45;&gt;33</title>\n<path fill=\"none\" stroke=\"black\" d=\"M1427.5,-460.91C1427.5,-452.65 1427.5,-443.86 1427.5,-435.3\"/>\n<polygon fill=\"black\" stroke=\"black\" points=\"1431,-435.02 1427.5,-425.02 1424,-435.02 1431,-435.02\"/>\n</g>\n<!-- 36 -->\n<g id=\"node37\" class=\"node\">\n<title>36</title>\n<polygon fill=\"#399de5\" stroke=\"black\" points=\"1672,-417.5 1517,-417.5 1517,-349.5 1672,-349.5 1672,-417.5\"/>\n<text text-anchor=\"middle\" x=\"1594.5\" y=\"-402.3\" font-family=\"Helvetica,sans-Serif\" font-size=\"14.00\">gini = 0.0</text>\n<text text-anchor=\"middle\" x=\"1594.5\" y=\"-387.3\" font-family=\"Helvetica,sans-Serif\" font-size=\"14.00\">samples = 10</text>\n<text text-anchor=\"middle\" x=\"1594.5\" y=\"-372.3\" font-family=\"Helvetica,sans-Serif\" font-size=\"14.00\">value = [0, 10]</text>\n<text text-anchor=\"middle\" x=\"1594.5\" y=\"-357.3\" font-family=\"Helvetica,sans-Serif\" font-size=\"14.00\">class = menos_chance</text>\n</g>\n<!-- 32&#45;&gt;36 -->\n<g id=\"edge36\" class=\"edge\">\n<title>32&#45;&gt;36</title>\n<path fill=\"none\" stroke=\"black\" d=\"M1485.44,-460.91C1502.76,-448.77 1521.71,-435.49 1538.89,-423.46\"/>\n<polygon fill=\"black\" stroke=\"black\" points=\"1540.98,-426.27 1547.16,-417.67 1536.96,-420.54 1540.98,-426.27\"/>\n</g>\n<!-- 34 -->\n<g id=\"node35\" class=\"node\">\n<title>34</title>\n<polygon fill=\"#399de5\" stroke=\"black\" points=\"1505,-298.5 1350,-298.5 1350,-230.5 1505,-230.5 1505,-298.5\"/>\n<text text-anchor=\"middle\" x=\"1427.5\" y=\"-283.3\" font-family=\"Helvetica,sans-Serif\" font-size=\"14.00\">gini = 0.0</text>\n<text text-anchor=\"middle\" x=\"1427.5\" y=\"-268.3\" font-family=\"Helvetica,sans-Serif\" font-size=\"14.00\">samples = 1</text>\n<text text-anchor=\"middle\" x=\"1427.5\" y=\"-253.3\" font-family=\"Helvetica,sans-Serif\" font-size=\"14.00\">value = [0, 1]</text>\n<text text-anchor=\"middle\" x=\"1427.5\" y=\"-238.3\" font-family=\"Helvetica,sans-Serif\" font-size=\"14.00\">class = menos_chance</text>\n</g>\n<!-- 33&#45;&gt;34 -->\n<g id=\"edge34\" class=\"edge\">\n<title>33&#45;&gt;34</title>\n<path fill=\"none\" stroke=\"black\" d=\"M1427.5,-341.91C1427.5,-331.2 1427.5,-319.62 1427.5,-308.78\"/>\n<polygon fill=\"black\" stroke=\"black\" points=\"1431,-308.67 1427.5,-298.67 1424,-308.67 1431,-308.67\"/>\n</g>\n<!-- 35 -->\n<g id=\"node36\" class=\"node\">\n<title>35</title>\n<polygon fill=\"#e58139\" stroke=\"black\" points=\"1666,-298.5 1523,-298.5 1523,-230.5 1666,-230.5 1666,-298.5\"/>\n<text text-anchor=\"middle\" x=\"1594.5\" y=\"-283.3\" font-family=\"Helvetica,sans-Serif\" font-size=\"14.00\">gini = 0.0</text>\n<text text-anchor=\"middle\" x=\"1594.5\" y=\"-268.3\" font-family=\"Helvetica,sans-Serif\" font-size=\"14.00\">samples = 5</text>\n<text text-anchor=\"middle\" x=\"1594.5\" y=\"-253.3\" font-family=\"Helvetica,sans-Serif\" font-size=\"14.00\">value = [5, 0]</text>\n<text text-anchor=\"middle\" x=\"1594.5\" y=\"-238.3\" font-family=\"Helvetica,sans-Serif\" font-size=\"14.00\">class = mais_chance</text>\n</g>\n<!-- 33&#45;&gt;35 -->\n<g id=\"edge35\" class=\"edge\">\n<title>33&#45;&gt;35</title>\n<path fill=\"none\" stroke=\"black\" d=\"M1485.44,-341.91C1502.76,-329.77 1521.71,-316.49 1538.89,-304.46\"/>\n<polygon fill=\"black\" stroke=\"black\" points=\"1540.98,-307.27 1547.16,-298.67 1536.96,-301.54 1540.98,-307.27\"/>\n</g>\n</g>\n</svg>\n"
          },
          "metadata": {},
          "execution_count": 36
        }
      ]
    },
    {
      "cell_type": "markdown",
      "source": [
        "# AUTO ML COM H2O"
      ],
      "metadata": {
        "id": "RUuzje_gdTDU"
      }
    },
    {
      "cell_type": "code",
      "source": [
        "!pip install h2o"
      ],
      "metadata": {
        "id": "OnjtTwTvaPBF"
      },
      "execution_count": null,
      "outputs": []
    },
    {
      "cell_type": "code",
      "source": [
        "# faz o auto ML - hyperparameter\n",
        "import h2o \n",
        "h2o.init()\n",
        "from h2o.estimators import H2ORandomForestEstimator"
      ],
      "metadata": {
        "id": "0iYOdoGtaHWL"
      },
      "execution_count": null,
      "outputs": []
    },
    {
      "cell_type": "code",
      "source": [
        "# importa dataset\n",
        "df2 = h2o.import_file('/content/df2.csv')"
      ],
      "metadata": {
        "colab": {
          "base_uri": "https://localhost:8080/"
        },
        "outputId": "a04438fb-e55c-4b56-f39d-917ff365836d",
        "id": "SU4UmbVYaHWW"
      },
      "execution_count": null,
      "outputs": [
        {
          "output_type": "stream",
          "name": "stdout",
          "text": [
            "Parse progress: |████████████████████████████████████████████████████████████████| (done) 100%\n"
          ]
        }
      ]
    },
    {
      "cell_type": "code",
      "source": [
        "df2"
      ],
      "metadata": {
        "id": "7QCelXySaHWW"
      },
      "execution_count": null,
      "outputs": []
    },
    {
      "cell_type": "code",
      "source": [
        "# define a variavel como categórica\n",
        "df2['resultado'] = df2['resultado'].asfactor()"
      ],
      "metadata": {
        "id": "3xt1MQxSaHWX"
      },
      "execution_count": null,
      "outputs": []
    },
    {
      "cell_type": "code",
      "source": [
        "from h2o.automl import H2OAutoML"
      ],
      "metadata": {
        "id": "Z2CY_0X6dShs"
      },
      "execution_count": null,
      "outputs": []
    },
    {
      "cell_type": "code",
      "source": [
        "df3 = df2\n",
        "\n",
        "# importa a funcao, define quantidade de modelos e quantidade de iteracoes\n",
        "aml = H2OAutoML(max_models = 15, nfolds = 30)\n",
        "\n",
        "random.seed(123)\n",
        "\n",
        "# treina o modelo\n",
        "aml.train(['idade', 'sexo', 'td_peito', 'pa_repouso', 'colesterol', 'as_jejum', 'fm_cardiaca', 're_repouso', \n",
        "            'declive', 'taxa_thall', 'nv_sanguineo', 'pico_anterior', 'ai_exercicio'], 'resultado', df3)\n",
        "\n",
        "# printa as informacoes dos modelos e mostra a acuracia do melhor\n",
        "print(aml.leaderboard.head(10))\n",
        "aml.get_best_model().model_performance()"
      ],
      "metadata": {
        "colab": {
          "base_uri": "https://localhost:8080/",
          "height": 1000
        },
        "id": "IwavA_KNc3jH",
        "outputId": "3b9233c0-b569-4eea-9683-9dfaf65ff1cf"
      },
      "execution_count": null,
      "outputs": [
        {
          "output_type": "stream",
          "name": "stdout",
          "text": [
            "AutoML progress: |███████████████████████████████████████████████████████████████| (done) 100%\n",
            "model_id                                                      auc    logloss     aucpr    mean_per_class_error      rmse       mse\n",
            "GBM_grid_1_AutoML_2_20230221_144145_model_1              0.927492   0.349587  0.939615                0.15303   0.333113  0.110964\n",
            "GBM_2_AutoML_2_20230221_144145                           0.926482   0.350188  0.941669                0.15415   0.336694  0.113363\n",
            "StackedEnsemble_AllModels_1_AutoML_2_20230221_144145     0.925516   0.344685  0.928864                0.160738  0.330531  0.10925\n",
            "StackedEnsemble_BestOfFamily_1_AutoML_2_20230221_144145  0.923803   0.349227  0.922702                0.161989  0.331985  0.110214\n",
            "GBM_4_AutoML_2_20230221_144145                           0.919675   0.35729   0.931766                0.171014  0.339489  0.115253\n",
            "GBM_3_AutoML_2_20230221_144145                           0.918841   0.358874  0.932659                0.169829  0.34137   0.116533\n",
            "GBM_1_AutoML_2_20230221_144145                           0.915437   0.383216  0.923932                0.18307   0.345412  0.119309\n",
            "XGBoost_grid_1_AutoML_2_20230221_144145_model_2          0.914185   0.405567  0.921907                0.163241  0.35454   0.125699\n",
            "XGBoost_grid_1_AutoML_2_20230221_144145_model_1          0.910321   0.383354  0.922946                0.203557  0.354554  0.125708\n",
            "DRF_1_AutoML_2_20230221_144145                           0.907686   0.486488  0.909302                0.174045  0.349601  0.122221\n",
            "[10 rows x 7 columns]\n",
            "\n"
          ]
        },
        {
          "output_type": "execute_result",
          "data": {
            "text/plain": [
              "ModelMetricsBinomial: gbm\n",
              "** Reported on train data. **\n",
              "\n",
              "MSE: 0.07957919944857363\n",
              "RMSE: 0.28209785438491664\n",
              "LogLoss: 0.27409808692495413\n",
              "Mean Per-Class Error: 0.09077733860342556\n",
              "AUC: 0.9670619235836628\n",
              "AUCPR: 0.9735680376052681\n",
              "Gini: 0.9341238471673257\n",
              "\n",
              "Confusion Matrix (Act/Pred) for max f1 @ threshold = 0.6094474481385098\n",
              "       0    1    Error    Rate\n",
              "-----  ---  ---  -------  ------------\n",
              "0      128  10   0.0725   (10.0/138.0)\n",
              "1      18   147  0.1091   (18.0/165.0)\n",
              "Total  146  157  0.0924   (28.0/303.0)\n",
              "\n",
              "Maximum Metrics: Maximum metrics at their respective thresholds\n",
              "metric                       threshold    value     idx\n",
              "---------------------------  -----------  --------  -----\n",
              "max f1                       0.609447     0.913043  154\n",
              "max f2                       0.31102      0.940767  198\n",
              "max f0point5                 0.684804     0.943012  140\n",
              "max accuracy                 0.634705     0.907591  148\n",
              "max precision                0.984179     1         0\n",
              "max recall                   0.085976     1         249\n",
              "max specificity              0.984179     1         0\n",
              "max absolute_mcc             0.634705     0.818737  148\n",
              "max min_per_class_accuracy   0.579933     0.89697   159\n",
              "max mean_per_class_accuracy  0.634705     0.911001  148\n",
              "max tns                      0.984179     138       0\n",
              "max fns                      0.984179     164       0\n",
              "max fps                      0.00899144   138       300\n",
              "max tps                      0.085976     165       249\n",
              "max tnr                      0.984179     1         0\n",
              "max fnr                      0.984179     0.993939  0\n",
              "max fpr                      0.00899144   1         300\n",
              "max tpr                      0.085976     1         249\n",
              "\n",
              "Gains/Lift Table: Avg response rate: 54.46 %, avg score: 54.51 %\n",
              "group    cumulative_data_fraction    lower_threshold    lift       cumulative_lift    response_rate    score      cumulative_response_rate    cumulative_score    capture_rate    cumulative_capture_rate    gain      cumulative_gain    kolmogorov_smirnov\n",
              "-------  --------------------------  -----------------  ---------  -----------------  ---------------  ---------  --------------------------  ------------------  --------------  -------------------------  --------  -----------------  --------------------\n",
              "1        0.0132013                   0.980912           1.83636    1.83636            1                0.982099   1                           0.982099            0.0242424       0.0242424                  83.6364   83.6364            0.0242424\n",
              "2        0.0231023                   0.980322           1.83636    1.83636            1                0.980457   1                           0.981395            0.0181818       0.0424242                  83.6364   83.6364            0.0424242\n",
              "3        0.0330033                   0.976147           1.83636    1.83636            1                0.977939   1                           0.980358            0.0181818       0.0606061                  83.6364   83.6364            0.0606061\n",
              "4        0.0429043                   0.969624           1.83636    1.83636            1                0.972241   1                           0.978485            0.0181818       0.0787879                  83.6364   83.6364            0.0787879\n",
              "5        0.0528053                   0.96805            1.83636    1.83636            1                0.968512   1                           0.976615            0.0181818       0.0969697                  83.6364   83.6364            0.0969697\n",
              "6        0.10231                     0.958819           1.83636    1.83636            1                0.963645   1                           0.970339            0.0909091       0.187879                   83.6364   83.6364            0.187879\n",
              "7        0.151815                    0.930094           1.83636    1.83636            1                0.946255   1                           0.962486            0.0909091       0.278788                   83.6364   83.6364            0.278788\n",
              "8        0.20132                     0.912007           1.83636    1.83636            1                0.921091   1                           0.952307            0.0909091       0.369697                   83.6364   83.6364            0.369697\n",
              "9        0.30033                     0.83884            1.77515    1.81618            0.966667         0.884692   0.989011                    0.930016            0.175758        0.545455                   77.5152   81.6184            0.538208\n",
              "10       0.39934                     0.761709           1.77515    1.80601            0.966667         0.806543   0.983471                    0.899403            0.175758        0.721212                   77.5152   80.6011            0.706719\n",
              "11       0.50165                     0.630554           1.48094    1.73971            0.806452         0.704727   0.947368                    0.859699            0.151515        0.872727                   48.0938   73.9713            0.814756\n",
              "12       0.60066                     0.460392           0.734545   1.57403            0.4              0.553824   0.857143                    0.80928             0.0727273       0.945455                   -26.5455  57.4026            0.757049\n",
              "13       0.69967                     0.229728           0.428485   1.41192            0.233333         0.332643   0.768868                    0.741831            0.0424242       0.987879                   -57.1515  41.1921            0.632806\n",
              "14       0.79868                     0.106363           0.0612121  1.24448            0.0333333        0.163722   0.677686                    0.670165            0.00606061      0.993939                   -93.8788  24.4478            0.428722\n",
              "15       0.89769                     0.0452125          0.0612121  1.11397            0.0333333        0.0745254  0.606618                    0.604469            0.00606061      1                          -93.8788  11.3971            0.224638\n",
              "16       1                           0.00899144         0          1                  0                0.024308   0.544554                    0.545113            0               1                          -100      0                  0"
            ],
            "text/html": [
              "<pre style='margin: 1em 0 1em 0;'>ModelMetricsBinomial: gbm\n",
              "** Reported on train data. **\n",
              "\n",
              "MSE: 0.07957919944857363\n",
              "RMSE: 0.28209785438491664\n",
              "LogLoss: 0.27409808692495413\n",
              "Mean Per-Class Error: 0.09077733860342556\n",
              "AUC: 0.9670619235836628\n",
              "AUCPR: 0.9735680376052681\n",
              "Gini: 0.9341238471673257</pre>\n",
              "<div style='margin: 1em 0 1em 0;'>\n",
              "<style>\n",
              "\n",
              "#h2o-table-5.h2o-container {\n",
              "  overflow-x: auto;\n",
              "}\n",
              "#h2o-table-5 .h2o-table {\n",
              "  /* width: 100%; */\n",
              "  margin-top: 1em;\n",
              "  margin-bottom: 1em;\n",
              "}\n",
              "#h2o-table-5 .h2o-table caption {\n",
              "  white-space: nowrap;\n",
              "  caption-side: top;\n",
              "  text-align: left;\n",
              "  /* margin-left: 1em; */\n",
              "  margin: 0;\n",
              "  font-size: larger;\n",
              "}\n",
              "#h2o-table-5 .h2o-table thead {\n",
              "  white-space: nowrap; \n",
              "  position: sticky;\n",
              "  top: 0;\n",
              "  box-shadow: 0 -1px inset;\n",
              "}\n",
              "#h2o-table-5 .h2o-table tbody {\n",
              "  overflow: auto;\n",
              "}\n",
              "#h2o-table-5 .h2o-table th,\n",
              "#h2o-table-5 .h2o-table td {\n",
              "  text-align: right;\n",
              "  /* border: 1px solid; */\n",
              "}\n",
              "#h2o-table-5 .h2o-table tr:nth-child(even) {\n",
              "  /* background: #F5F5F5 */\n",
              "}\n",
              "\n",
              "</style>      \n",
              "<div id=\"h2o-table-5\" class=\"h2o-container\">\n",
              "  <table class=\"h2o-table\">\n",
              "    <caption>Confusion Matrix (Act/Pred) for max f1 @ threshold = 0.6094474481385098</caption>\n",
              "    <thead><tr><th></th>\n",
              "<th>0</th>\n",
              "<th>1</th>\n",
              "<th>Error</th>\n",
              "<th>Rate</th></tr></thead>\n",
              "    <tbody><tr><td>0</td>\n",
              "<td>128.0</td>\n",
              "<td>10.0</td>\n",
              "<td>0.0725</td>\n",
              "<td> (10.0/138.0)</td></tr>\n",
              "<tr><td>1</td>\n",
              "<td>18.0</td>\n",
              "<td>147.0</td>\n",
              "<td>0.1091</td>\n",
              "<td> (18.0/165.0)</td></tr>\n",
              "<tr><td>Total</td>\n",
              "<td>146.0</td>\n",
              "<td>157.0</td>\n",
              "<td>0.0924</td>\n",
              "<td> (28.0/303.0)</td></tr></tbody>\n",
              "  </table>\n",
              "</div>\n",
              "</div>\n",
              "<div style='margin: 1em 0 1em 0;'>\n",
              "<style>\n",
              "\n",
              "#h2o-table-6.h2o-container {\n",
              "  overflow-x: auto;\n",
              "}\n",
              "#h2o-table-6 .h2o-table {\n",
              "  /* width: 100%; */\n",
              "  margin-top: 1em;\n",
              "  margin-bottom: 1em;\n",
              "}\n",
              "#h2o-table-6 .h2o-table caption {\n",
              "  white-space: nowrap;\n",
              "  caption-side: top;\n",
              "  text-align: left;\n",
              "  /* margin-left: 1em; */\n",
              "  margin: 0;\n",
              "  font-size: larger;\n",
              "}\n",
              "#h2o-table-6 .h2o-table thead {\n",
              "  white-space: nowrap; \n",
              "  position: sticky;\n",
              "  top: 0;\n",
              "  box-shadow: 0 -1px inset;\n",
              "}\n",
              "#h2o-table-6 .h2o-table tbody {\n",
              "  overflow: auto;\n",
              "}\n",
              "#h2o-table-6 .h2o-table th,\n",
              "#h2o-table-6 .h2o-table td {\n",
              "  text-align: right;\n",
              "  /* border: 1px solid; */\n",
              "}\n",
              "#h2o-table-6 .h2o-table tr:nth-child(even) {\n",
              "  /* background: #F5F5F5 */\n",
              "}\n",
              "\n",
              "</style>      \n",
              "<div id=\"h2o-table-6\" class=\"h2o-container\">\n",
              "  <table class=\"h2o-table\">\n",
              "    <caption>Maximum Metrics: Maximum metrics at their respective thresholds</caption>\n",
              "    <thead><tr><th>metric</th>\n",
              "<th>threshold</th>\n",
              "<th>value</th>\n",
              "<th>idx</th></tr></thead>\n",
              "    <tbody><tr><td>max f1</td>\n",
              "<td>0.6094474</td>\n",
              "<td>0.9130435</td>\n",
              "<td>154.0</td></tr>\n",
              "<tr><td>max f2</td>\n",
              "<td>0.3110195</td>\n",
              "<td>0.9407666</td>\n",
              "<td>198.0</td></tr>\n",
              "<tr><td>max f0point5</td>\n",
              "<td>0.6848038</td>\n",
              "<td>0.9430122</td>\n",
              "<td>140.0</td></tr>\n",
              "<tr><td>max accuracy</td>\n",
              "<td>0.6347045</td>\n",
              "<td>0.9075908</td>\n",
              "<td>148.0</td></tr>\n",
              "<tr><td>max precision</td>\n",
              "<td>0.9841788</td>\n",
              "<td>1.0</td>\n",
              "<td>0.0</td></tr>\n",
              "<tr><td>max recall</td>\n",
              "<td>0.0859760</td>\n",
              "<td>1.0</td>\n",
              "<td>249.0</td></tr>\n",
              "<tr><td>max specificity</td>\n",
              "<td>0.9841788</td>\n",
              "<td>1.0</td>\n",
              "<td>0.0</td></tr>\n",
              "<tr><td>max absolute_mcc</td>\n",
              "<td>0.6347045</td>\n",
              "<td>0.8187371</td>\n",
              "<td>148.0</td></tr>\n",
              "<tr><td>max min_per_class_accuracy</td>\n",
              "<td>0.5799334</td>\n",
              "<td>0.8969697</td>\n",
              "<td>159.0</td></tr>\n",
              "<tr><td>max mean_per_class_accuracy</td>\n",
              "<td>0.6347045</td>\n",
              "<td>0.9110013</td>\n",
              "<td>148.0</td></tr>\n",
              "<tr><td>max tns</td>\n",
              "<td>0.9841788</td>\n",
              "<td>138.0</td>\n",
              "<td>0.0</td></tr>\n",
              "<tr><td>max fns</td>\n",
              "<td>0.9841788</td>\n",
              "<td>164.0</td>\n",
              "<td>0.0</td></tr>\n",
              "<tr><td>max fps</td>\n",
              "<td>0.0089914</td>\n",
              "<td>138.0</td>\n",
              "<td>300.0</td></tr>\n",
              "<tr><td>max tps</td>\n",
              "<td>0.0859760</td>\n",
              "<td>165.0</td>\n",
              "<td>249.0</td></tr>\n",
              "<tr><td>max tnr</td>\n",
              "<td>0.9841788</td>\n",
              "<td>1.0</td>\n",
              "<td>0.0</td></tr>\n",
              "<tr><td>max fnr</td>\n",
              "<td>0.9841788</td>\n",
              "<td>0.9939394</td>\n",
              "<td>0.0</td></tr>\n",
              "<tr><td>max fpr</td>\n",
              "<td>0.0089914</td>\n",
              "<td>1.0</td>\n",
              "<td>300.0</td></tr>\n",
              "<tr><td>max tpr</td>\n",
              "<td>0.0859760</td>\n",
              "<td>1.0</td>\n",
              "<td>249.0</td></tr></tbody>\n",
              "  </table>\n",
              "</div>\n",
              "</div>\n",
              "<div style='margin: 1em 0 1em 0;'>\n",
              "<style>\n",
              "\n",
              "#h2o-table-7.h2o-container {\n",
              "  overflow-x: auto;\n",
              "}\n",
              "#h2o-table-7 .h2o-table {\n",
              "  /* width: 100%; */\n",
              "  margin-top: 1em;\n",
              "  margin-bottom: 1em;\n",
              "}\n",
              "#h2o-table-7 .h2o-table caption {\n",
              "  white-space: nowrap;\n",
              "  caption-side: top;\n",
              "  text-align: left;\n",
              "  /* margin-left: 1em; */\n",
              "  margin: 0;\n",
              "  font-size: larger;\n",
              "}\n",
              "#h2o-table-7 .h2o-table thead {\n",
              "  white-space: nowrap; \n",
              "  position: sticky;\n",
              "  top: 0;\n",
              "  box-shadow: 0 -1px inset;\n",
              "}\n",
              "#h2o-table-7 .h2o-table tbody {\n",
              "  overflow: auto;\n",
              "}\n",
              "#h2o-table-7 .h2o-table th,\n",
              "#h2o-table-7 .h2o-table td {\n",
              "  text-align: right;\n",
              "  /* border: 1px solid; */\n",
              "}\n",
              "#h2o-table-7 .h2o-table tr:nth-child(even) {\n",
              "  /* background: #F5F5F5 */\n",
              "}\n",
              "\n",
              "</style>      \n",
              "<div id=\"h2o-table-7\" class=\"h2o-container\">\n",
              "  <table class=\"h2o-table\">\n",
              "    <caption>Gains/Lift Table: Avg response rate: 54.46 %, avg score: 54.51 %</caption>\n",
              "    <thead><tr><th>group</th>\n",
              "<th>cumulative_data_fraction</th>\n",
              "<th>lower_threshold</th>\n",
              "<th>lift</th>\n",
              "<th>cumulative_lift</th>\n",
              "<th>response_rate</th>\n",
              "<th>score</th>\n",
              "<th>cumulative_response_rate</th>\n",
              "<th>cumulative_score</th>\n",
              "<th>capture_rate</th>\n",
              "<th>cumulative_capture_rate</th>\n",
              "<th>gain</th>\n",
              "<th>cumulative_gain</th>\n",
              "<th>kolmogorov_smirnov</th></tr></thead>\n",
              "    <tbody><tr><td>1</td>\n",
              "<td>0.0132013</td>\n",
              "<td>0.9809120</td>\n",
              "<td>1.8363636</td>\n",
              "<td>1.8363636</td>\n",
              "<td>1.0</td>\n",
              "<td>0.9820988</td>\n",
              "<td>1.0</td>\n",
              "<td>0.9820988</td>\n",
              "<td>0.0242424</td>\n",
              "<td>0.0242424</td>\n",
              "<td>83.6363636</td>\n",
              "<td>83.6363636</td>\n",
              "<td>0.0242424</td></tr>\n",
              "<tr><td>2</td>\n",
              "<td>0.0231023</td>\n",
              "<td>0.9803223</td>\n",
              "<td>1.8363636</td>\n",
              "<td>1.8363636</td>\n",
              "<td>1.0</td>\n",
              "<td>0.9804573</td>\n",
              "<td>1.0</td>\n",
              "<td>0.9813953</td>\n",
              "<td>0.0181818</td>\n",
              "<td>0.0424242</td>\n",
              "<td>83.6363636</td>\n",
              "<td>83.6363636</td>\n",
              "<td>0.0424242</td></tr>\n",
              "<tr><td>3</td>\n",
              "<td>0.0330033</td>\n",
              "<td>0.9761470</td>\n",
              "<td>1.8363636</td>\n",
              "<td>1.8363636</td>\n",
              "<td>1.0</td>\n",
              "<td>0.9779386</td>\n",
              "<td>1.0</td>\n",
              "<td>0.9803583</td>\n",
              "<td>0.0181818</td>\n",
              "<td>0.0606061</td>\n",
              "<td>83.6363636</td>\n",
              "<td>83.6363636</td>\n",
              "<td>0.0606061</td></tr>\n",
              "<tr><td>4</td>\n",
              "<td>0.0429043</td>\n",
              "<td>0.9696238</td>\n",
              "<td>1.8363636</td>\n",
              "<td>1.8363636</td>\n",
              "<td>1.0</td>\n",
              "<td>0.9722410</td>\n",
              "<td>1.0</td>\n",
              "<td>0.9784851</td>\n",
              "<td>0.0181818</td>\n",
              "<td>0.0787879</td>\n",
              "<td>83.6363636</td>\n",
              "<td>83.6363636</td>\n",
              "<td>0.0787879</td></tr>\n",
              "<tr><td>5</td>\n",
              "<td>0.0528053</td>\n",
              "<td>0.9680505</td>\n",
              "<td>1.8363636</td>\n",
              "<td>1.8363636</td>\n",
              "<td>1.0</td>\n",
              "<td>0.9685124</td>\n",
              "<td>1.0</td>\n",
              "<td>0.9766152</td>\n",
              "<td>0.0181818</td>\n",
              "<td>0.0969697</td>\n",
              "<td>83.6363636</td>\n",
              "<td>83.6363636</td>\n",
              "<td>0.0969697</td></tr>\n",
              "<tr><td>6</td>\n",
              "<td>0.1023102</td>\n",
              "<td>0.9588191</td>\n",
              "<td>1.8363636</td>\n",
              "<td>1.8363636</td>\n",
              "<td>1.0</td>\n",
              "<td>0.9636448</td>\n",
              "<td>1.0</td>\n",
              "<td>0.9703392</td>\n",
              "<td>0.0909091</td>\n",
              "<td>0.1878788</td>\n",
              "<td>83.6363636</td>\n",
              "<td>83.6363636</td>\n",
              "<td>0.1878788</td></tr>\n",
              "<tr><td>7</td>\n",
              "<td>0.1518152</td>\n",
              "<td>0.9300944</td>\n",
              "<td>1.8363636</td>\n",
              "<td>1.8363636</td>\n",
              "<td>1.0</td>\n",
              "<td>0.9462546</td>\n",
              "<td>1.0</td>\n",
              "<td>0.9624855</td>\n",
              "<td>0.0909091</td>\n",
              "<td>0.2787879</td>\n",
              "<td>83.6363636</td>\n",
              "<td>83.6363636</td>\n",
              "<td>0.2787879</td></tr>\n",
              "<tr><td>8</td>\n",
              "<td>0.2013201</td>\n",
              "<td>0.9120067</td>\n",
              "<td>1.8363636</td>\n",
              "<td>1.8363636</td>\n",
              "<td>1.0</td>\n",
              "<td>0.9210910</td>\n",
              "<td>1.0</td>\n",
              "<td>0.9523066</td>\n",
              "<td>0.0909091</td>\n",
              "<td>0.3696970</td>\n",
              "<td>83.6363636</td>\n",
              "<td>83.6363636</td>\n",
              "<td>0.3696970</td></tr>\n",
              "<tr><td>9</td>\n",
              "<td>0.3003300</td>\n",
              "<td>0.8388404</td>\n",
              "<td>1.7751515</td>\n",
              "<td>1.8161838</td>\n",
              "<td>0.9666667</td>\n",
              "<td>0.8846916</td>\n",
              "<td>0.9890110</td>\n",
              "<td>0.9300159</td>\n",
              "<td>0.1757576</td>\n",
              "<td>0.5454545</td>\n",
              "<td>77.5151515</td>\n",
              "<td>81.6183816</td>\n",
              "<td>0.5382082</td></tr>\n",
              "<tr><td>10</td>\n",
              "<td>0.3993399</td>\n",
              "<td>0.7617094</td>\n",
              "<td>1.7751515</td>\n",
              "<td>1.8060105</td>\n",
              "<td>0.9666667</td>\n",
              "<td>0.8065432</td>\n",
              "<td>0.9834711</td>\n",
              "<td>0.8994028</td>\n",
              "<td>0.1757576</td>\n",
              "<td>0.7212121</td>\n",
              "<td>77.5151515</td>\n",
              "<td>80.6010518</td>\n",
              "<td>0.7067194</td></tr>\n",
              "<tr><td>11</td>\n",
              "<td>0.5016502</td>\n",
              "<td>0.6305544</td>\n",
              "<td>1.4809384</td>\n",
              "<td>1.7397129</td>\n",
              "<td>0.8064516</td>\n",
              "<td>0.7047266</td>\n",
              "<td>0.9473684</td>\n",
              "<td>0.8596991</td>\n",
              "<td>0.1515152</td>\n",
              "<td>0.8727273</td>\n",
              "<td>48.0938416</td>\n",
              "<td>73.9712919</td>\n",
              "<td>0.8147563</td></tr>\n",
              "<tr><td>12</td>\n",
              "<td>0.6006601</td>\n",
              "<td>0.4603921</td>\n",
              "<td>0.7345455</td>\n",
              "<td>1.5740260</td>\n",
              "<td>0.4</td>\n",
              "<td>0.5538236</td>\n",
              "<td>0.8571429</td>\n",
              "<td>0.8092801</td>\n",
              "<td>0.0727273</td>\n",
              "<td>0.9454545</td>\n",
              "<td>-26.5454545</td>\n",
              "<td>57.4025974</td>\n",
              "<td>0.7570487</td></tr>\n",
              "<tr><td>13</td>\n",
              "<td>0.6996700</td>\n",
              "<td>0.2297280</td>\n",
              "<td>0.4284848</td>\n",
              "<td>1.4119211</td>\n",
              "<td>0.2333333</td>\n",
              "<td>0.3326428</td>\n",
              "<td>0.7688679</td>\n",
              "<td>0.7418314</td>\n",
              "<td>0.0424242</td>\n",
              "<td>0.9878788</td>\n",
              "<td>-57.1515152</td>\n",
              "<td>41.1921098</td>\n",
              "<td>0.6328063</td></tr>\n",
              "<tr><td>14</td>\n",
              "<td>0.7986799</td>\n",
              "<td>0.1063629</td>\n",
              "<td>0.0612121</td>\n",
              "<td>1.2444778</td>\n",
              "<td>0.0333333</td>\n",
              "<td>0.1637217</td>\n",
              "<td>0.6776860</td>\n",
              "<td>0.6701649</td>\n",
              "<td>0.0060606</td>\n",
              "<td>0.9939394</td>\n",
              "<td>-93.8787879</td>\n",
              "<td>24.4477836</td>\n",
              "<td>0.4287220</td></tr>\n",
              "<tr><td>15</td>\n",
              "<td>0.8976898</td>\n",
              "<td>0.0452125</td>\n",
              "<td>0.0612121</td>\n",
              "<td>1.1139706</td>\n",
              "<td>0.0333333</td>\n",
              "<td>0.0745254</td>\n",
              "<td>0.6066176</td>\n",
              "<td>0.6044694</td>\n",
              "<td>0.0060606</td>\n",
              "<td>1.0</td>\n",
              "<td>-93.8787879</td>\n",
              "<td>11.3970588</td>\n",
              "<td>0.2246377</td></tr>\n",
              "<tr><td>16</td>\n",
              "<td>1.0</td>\n",
              "<td>0.0089914</td>\n",
              "<td>0.0</td>\n",
              "<td>1.0</td>\n",
              "<td>0.0</td>\n",
              "<td>0.0243080</td>\n",
              "<td>0.5445545</td>\n",
              "<td>0.5451129</td>\n",
              "<td>0.0</td>\n",
              "<td>1.0</td>\n",
              "<td>-100.0</td>\n",
              "<td>0.0</td>\n",
              "<td>0.0</td></tr></tbody>\n",
              "  </table>\n",
              "</div>\n",
              "</div>"
            ]
          },
          "metadata": {},
          "execution_count": 48
        }
      ]
    },
    {
      "cell_type": "markdown",
      "source": [
        "#CONCLUSÃO\n",
        "\n",
        "- Apesar do AUTOML com h2o rodar varios tipos de modelos, nenhum superou a acurácia da árvore de decisão do sklearn, ou seja, os modelos erraram mais, o melhor modelo foi o GBM, com 90.75% de acurácia máxima. Ou seja, para este dataset o h2o não performou muito bem.\n",
        "\n",
        "- Para este dataset o modelo que mais performou chegando a uma acurácia de 98.36% em teste foi a árvore de decisão do sklearn.\n",
        "\n",
        "- Sendo assim, com esta acurácia o modelo poderia ser colocado em produção.\n",
        "\n",
        "- De acordo com a matriz de confusão do teste, nota-se que o modelo de árvore de decisão acertou mais em dizer se o paciente tem mais chance de ter um ataque cardiáco, que é o foco da análise.\n",
        "\n",
        "- Por seu tamanho, a árvore de decisão pode ser um pouco complexa na hora de analisa-lá.\n"
      ],
      "metadata": {
        "id": "ShwiAMTkbHVG"
      }
    }
  ]
}